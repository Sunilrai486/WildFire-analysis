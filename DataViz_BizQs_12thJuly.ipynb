{
 "cells": [
  {
   "cell_type": "code",
   "execution_count": 1,
   "id": "046c7fa6",
   "metadata": {},
   "outputs": [],
   "source": [
    "# Import needed libraries. Load the DF. \n",
    "import pandas as pd\n",
    "import numpy as np\n",
    "import matplotlib.pyplot as plt"
   ]
  },
  {
   "cell_type": "code",
   "execution_count": 2,
   "id": "a8597e42",
   "metadata": {},
   "outputs": [
    {
     "name": "stderr",
     "output_type": "stream",
     "text": [
      "C:\\Users\\Acer\\AppData\\Local\\Temp\\ipykernel_26840\\4176767329.py:1: DtypeWarning: Columns (7) have mixed types. Specify dtype option on import or set low_memory=False.\n",
      "  df = pd.read_csv('fires.csv')\n"
     ]
    }
   ],
   "source": [
    "df = pd.read_csv('fires.csv')"
   ]
  },
  {
   "cell_type": "markdown",
   "id": "4ab0e9b1",
   "metadata": {},
   "source": [
    "#### (I) Explore the data:\n",
    "\n",
    "\n",
    "\n"
   ]
  },
  {
   "cell_type": "markdown",
   "id": "cb12a679",
   "metadata": {},
   "source": [
    "Q1. Find the dimensions of the DF. Make the colnames lowercase."
   ]
  },
  {
   "cell_type": "code",
   "execution_count": 3,
   "id": "ea565c5e",
   "metadata": {},
   "outputs": [
    {
     "data": {
      "text/plain": [
       "(1880465, 8)"
      ]
     },
     "execution_count": 3,
     "metadata": {},
     "output_type": "execute_result"
    }
   ],
   "source": [
    "df.shape"
   ]
  },
  {
   "cell_type": "code",
   "execution_count": 4,
   "id": "0a6f2e79",
   "metadata": {},
   "outputs": [
    {
     "data": {
      "text/html": [
       "<div>\n",
       "<style scoped>\n",
       "    .dataframe tbody tr th:only-of-type {\n",
       "        vertical-align: middle;\n",
       "    }\n",
       "\n",
       "    .dataframe tbody tr th {\n",
       "        vertical-align: top;\n",
       "    }\n",
       "\n",
       "    .dataframe thead th {\n",
       "        text-align: right;\n",
       "    }\n",
       "</style>\n",
       "<table border=\"1\" class=\"dataframe\">\n",
       "  <thead>\n",
       "    <tr style=\"text-align: right;\">\n",
       "      <th></th>\n",
       "      <th>fire_name</th>\n",
       "      <th>fire_size</th>\n",
       "      <th>state</th>\n",
       "      <th>latitude</th>\n",
       "      <th>longitude</th>\n",
       "      <th>fire_year</th>\n",
       "      <th>discovery_date</th>\n",
       "      <th>contain_date</th>\n",
       "    </tr>\n",
       "  </thead>\n",
       "  <tbody>\n",
       "    <tr>\n",
       "      <th>0</th>\n",
       "      <td>FOUNTAIN</td>\n",
       "      <td>0.10</td>\n",
       "      <td>CA</td>\n",
       "      <td>40.036944</td>\n",
       "      <td>-121.005833</td>\n",
       "      <td>2005</td>\n",
       "      <td>2005-02-02 00:00:00</td>\n",
       "      <td>2005-02-02 00:00:00</td>\n",
       "    </tr>\n",
       "    <tr>\n",
       "      <th>1</th>\n",
       "      <td>PIGEON</td>\n",
       "      <td>0.25</td>\n",
       "      <td>CA</td>\n",
       "      <td>38.933056</td>\n",
       "      <td>-120.404444</td>\n",
       "      <td>2004</td>\n",
       "      <td>2004-05-12 00:00:00</td>\n",
       "      <td>2004-05-12 00:00:00</td>\n",
       "    </tr>\n",
       "    <tr>\n",
       "      <th>2</th>\n",
       "      <td>SLACK</td>\n",
       "      <td>0.10</td>\n",
       "      <td>CA</td>\n",
       "      <td>38.984167</td>\n",
       "      <td>-120.735556</td>\n",
       "      <td>2004</td>\n",
       "      <td>2004-05-31 00:00:00</td>\n",
       "      <td>2004-05-31 00:00:00</td>\n",
       "    </tr>\n",
       "    <tr>\n",
       "      <th>3</th>\n",
       "      <td>DEER</td>\n",
       "      <td>0.10</td>\n",
       "      <td>CA</td>\n",
       "      <td>38.559167</td>\n",
       "      <td>-119.913333</td>\n",
       "      <td>2004</td>\n",
       "      <td>2004-06-28 00:00:00</td>\n",
       "      <td>2004-07-03 00:00:00</td>\n",
       "    </tr>\n",
       "    <tr>\n",
       "      <th>4</th>\n",
       "      <td>STEVENOT</td>\n",
       "      <td>0.10</td>\n",
       "      <td>CA</td>\n",
       "      <td>38.559167</td>\n",
       "      <td>-119.933056</td>\n",
       "      <td>2004</td>\n",
       "      <td>2004-06-28 00:00:00</td>\n",
       "      <td>2004-07-03 00:00:00</td>\n",
       "    </tr>\n",
       "    <tr>\n",
       "      <th>5</th>\n",
       "      <td>HIDDEN</td>\n",
       "      <td>0.10</td>\n",
       "      <td>CA</td>\n",
       "      <td>38.635278</td>\n",
       "      <td>-120.103611</td>\n",
       "      <td>2004</td>\n",
       "      <td>2004-06-30 00:00:00</td>\n",
       "      <td>2004-07-01 00:00:00</td>\n",
       "    </tr>\n",
       "    <tr>\n",
       "      <th>6</th>\n",
       "      <td>FORK</td>\n",
       "      <td>0.10</td>\n",
       "      <td>CA</td>\n",
       "      <td>38.688333</td>\n",
       "      <td>-120.153333</td>\n",
       "      <td>2004</td>\n",
       "      <td>2004-07-01 00:00:00</td>\n",
       "      <td>2004-07-02 00:00:00</td>\n",
       "    </tr>\n",
       "    <tr>\n",
       "      <th>7</th>\n",
       "      <td>SLATE</td>\n",
       "      <td>0.80</td>\n",
       "      <td>CA</td>\n",
       "      <td>40.968056</td>\n",
       "      <td>-122.433889</td>\n",
       "      <td>2005</td>\n",
       "      <td>2005-03-08 00:00:00</td>\n",
       "      <td>2005-03-08 00:00:00</td>\n",
       "    </tr>\n",
       "    <tr>\n",
       "      <th>8</th>\n",
       "      <td>SHASTA</td>\n",
       "      <td>1.00</td>\n",
       "      <td>CA</td>\n",
       "      <td>41.233611</td>\n",
       "      <td>-122.283333</td>\n",
       "      <td>2005</td>\n",
       "      <td>2005-03-15 00:00:00</td>\n",
       "      <td>2005-03-15 00:00:00</td>\n",
       "    </tr>\n",
       "    <tr>\n",
       "      <th>9</th>\n",
       "      <td>TANGLEFOOT</td>\n",
       "      <td>0.10</td>\n",
       "      <td>CA</td>\n",
       "      <td>38.548333</td>\n",
       "      <td>-120.149167</td>\n",
       "      <td>2004</td>\n",
       "      <td>2004-07-01 00:00:00</td>\n",
       "      <td>2004-07-02 00:00:00</td>\n",
       "    </tr>\n",
       "    <tr>\n",
       "      <th>10</th>\n",
       "      <td>FORK #2</td>\n",
       "      <td>0.10</td>\n",
       "      <td>CA</td>\n",
       "      <td>38.691667</td>\n",
       "      <td>-120.159722</td>\n",
       "      <td>2004</td>\n",
       "      <td>2004-07-02 00:00:00</td>\n",
       "      <td>2004-07-03 00:00:00</td>\n",
       "    </tr>\n",
       "    <tr>\n",
       "      <th>11</th>\n",
       "      <td>MOKE #2</td>\n",
       "      <td>0.10</td>\n",
       "      <td>CA</td>\n",
       "      <td>38.527500</td>\n",
       "      <td>-120.106111</td>\n",
       "      <td>2004</td>\n",
       "      <td>2004-07-02 00:00:00</td>\n",
       "      <td>2004-07-03 00:00:00</td>\n",
       "    </tr>\n",
       "    <tr>\n",
       "      <th>12</th>\n",
       "      <td>WRIGHTS</td>\n",
       "      <td>0.10</td>\n",
       "      <td>CA</td>\n",
       "      <td>38.786667</td>\n",
       "      <td>-120.193333</td>\n",
       "      <td>2004</td>\n",
       "      <td>2004-09-03 00:00:00</td>\n",
       "      <td>2004-09-03 00:00:00</td>\n",
       "    </tr>\n",
       "    <tr>\n",
       "      <th>13</th>\n",
       "      <td>TIGER</td>\n",
       "      <td>6.00</td>\n",
       "      <td>CA</td>\n",
       "      <td>38.433333</td>\n",
       "      <td>-120.510000</td>\n",
       "      <td>2004</td>\n",
       "      <td>2004-09-28 00:00:00</td>\n",
       "      <td>2004-09-28 00:00:00</td>\n",
       "    </tr>\n",
       "    <tr>\n",
       "      <th>14</th>\n",
       "      <td>BROWN</td>\n",
       "      <td>0.20</td>\n",
       "      <td>CA</td>\n",
       "      <td>38.675833</td>\n",
       "      <td>-120.279722</td>\n",
       "      <td>2004</td>\n",
       "      <td>2004-10-03 00:00:00</td>\n",
       "      <td>2004-10-03 00:00:00</td>\n",
       "    </tr>\n",
       "    <tr>\n",
       "      <th>15</th>\n",
       "      <td>SOPIAGO</td>\n",
       "      <td>0.10</td>\n",
       "      <td>CA</td>\n",
       "      <td>38.564167</td>\n",
       "      <td>-120.542222</td>\n",
       "      <td>2004</td>\n",
       "      <td>2004-10-03 00:00:00</td>\n",
       "      <td>2004-10-03 00:00:00</td>\n",
       "    </tr>\n",
       "    <tr>\n",
       "      <th>16</th>\n",
       "      <td>POWER</td>\n",
       "      <td>16823.00</td>\n",
       "      <td>CA</td>\n",
       "      <td>38.523333</td>\n",
       "      <td>-120.211667</td>\n",
       "      <td>2004</td>\n",
       "      <td>2004-10-06 00:00:00</td>\n",
       "      <td>2004-10-21 00:00:00</td>\n",
       "    </tr>\n",
       "    <tr>\n",
       "      <th>17</th>\n",
       "      <td>FREDS</td>\n",
       "      <td>7700.00</td>\n",
       "      <td>CA</td>\n",
       "      <td>38.780000</td>\n",
       "      <td>-120.260000</td>\n",
       "      <td>2004</td>\n",
       "      <td>2004-10-13 00:00:00</td>\n",
       "      <td>2004-10-17 00:00:00</td>\n",
       "    </tr>\n",
       "    <tr>\n",
       "      <th>18</th>\n",
       "      <td>HARTLESS</td>\n",
       "      <td>0.10</td>\n",
       "      <td>CA</td>\n",
       "      <td>38.945000</td>\n",
       "      <td>-120.411667</td>\n",
       "      <td>2004</td>\n",
       "      <td>2004-11-20 00:00:00</td>\n",
       "      <td>2004-11-21 00:00:00</td>\n",
       "    </tr>\n",
       "    <tr>\n",
       "      <th>19</th>\n",
       "      <td>SPRING</td>\n",
       "      <td>0.10</td>\n",
       "      <td>NM</td>\n",
       "      <td>33.440833</td>\n",
       "      <td>-105.720556</td>\n",
       "      <td>2004</td>\n",
       "      <td>2004-06-04 00:00:00</td>\n",
       "      <td>2004-06-04 00:00:00</td>\n",
       "    </tr>\n",
       "  </tbody>\n",
       "</table>\n",
       "</div>"
      ],
      "text/plain": [
       "     fire_name  fire_size state   latitude   longitude  fire_year   \n",
       "0     FOUNTAIN       0.10    CA  40.036944 -121.005833       2005  \\\n",
       "1       PIGEON       0.25    CA  38.933056 -120.404444       2004   \n",
       "2        SLACK       0.10    CA  38.984167 -120.735556       2004   \n",
       "3         DEER       0.10    CA  38.559167 -119.913333       2004   \n",
       "4     STEVENOT       0.10    CA  38.559167 -119.933056       2004   \n",
       "5       HIDDEN       0.10    CA  38.635278 -120.103611       2004   \n",
       "6         FORK       0.10    CA  38.688333 -120.153333       2004   \n",
       "7        SLATE       0.80    CA  40.968056 -122.433889       2005   \n",
       "8       SHASTA       1.00    CA  41.233611 -122.283333       2005   \n",
       "9   TANGLEFOOT       0.10    CA  38.548333 -120.149167       2004   \n",
       "10     FORK #2       0.10    CA  38.691667 -120.159722       2004   \n",
       "11     MOKE #2       0.10    CA  38.527500 -120.106111       2004   \n",
       "12     WRIGHTS       0.10    CA  38.786667 -120.193333       2004   \n",
       "13       TIGER       6.00    CA  38.433333 -120.510000       2004   \n",
       "14       BROWN       0.20    CA  38.675833 -120.279722       2004   \n",
       "15     SOPIAGO       0.10    CA  38.564167 -120.542222       2004   \n",
       "16       POWER   16823.00    CA  38.523333 -120.211667       2004   \n",
       "17       FREDS    7700.00    CA  38.780000 -120.260000       2004   \n",
       "18    HARTLESS       0.10    CA  38.945000 -120.411667       2004   \n",
       "19      SPRING       0.10    NM  33.440833 -105.720556       2004   \n",
       "\n",
       "         discovery_date         contain_date  \n",
       "0   2005-02-02 00:00:00  2005-02-02 00:00:00  \n",
       "1   2004-05-12 00:00:00  2004-05-12 00:00:00  \n",
       "2   2004-05-31 00:00:00  2004-05-31 00:00:00  \n",
       "3   2004-06-28 00:00:00  2004-07-03 00:00:00  \n",
       "4   2004-06-28 00:00:00  2004-07-03 00:00:00  \n",
       "5   2004-06-30 00:00:00  2004-07-01 00:00:00  \n",
       "6   2004-07-01 00:00:00  2004-07-02 00:00:00  \n",
       "7   2005-03-08 00:00:00  2005-03-08 00:00:00  \n",
       "8   2005-03-15 00:00:00  2005-03-15 00:00:00  \n",
       "9   2004-07-01 00:00:00  2004-07-02 00:00:00  \n",
       "10  2004-07-02 00:00:00  2004-07-03 00:00:00  \n",
       "11  2004-07-02 00:00:00  2004-07-03 00:00:00  \n",
       "12  2004-09-03 00:00:00  2004-09-03 00:00:00  \n",
       "13  2004-09-28 00:00:00  2004-09-28 00:00:00  \n",
       "14  2004-10-03 00:00:00  2004-10-03 00:00:00  \n",
       "15  2004-10-03 00:00:00  2004-10-03 00:00:00  \n",
       "16  2004-10-06 00:00:00  2004-10-21 00:00:00  \n",
       "17  2004-10-13 00:00:00  2004-10-17 00:00:00  \n",
       "18  2004-11-20 00:00:00  2004-11-21 00:00:00  \n",
       "19  2004-06-04 00:00:00  2004-06-04 00:00:00  "
      ]
     },
     "execution_count": 4,
     "metadata": {},
     "output_type": "execute_result"
    }
   ],
   "source": [
    "df.columns = df.columns.str.lower()\n",
    "df.head(20)"
   ]
  },
  {
   "cell_type": "markdown",
   "id": "16322ec5",
   "metadata": {},
   "source": [
    "Q2. Rename the column `fire_size` to `acres_burned`.\n"
   ]
  },
  {
   "cell_type": "code",
   "execution_count": 5,
   "id": "2d71998e",
   "metadata": {},
   "outputs": [
    {
     "data": {
      "text/html": [
       "<div>\n",
       "<style scoped>\n",
       "    .dataframe tbody tr th:only-of-type {\n",
       "        vertical-align: middle;\n",
       "    }\n",
       "\n",
       "    .dataframe tbody tr th {\n",
       "        vertical-align: top;\n",
       "    }\n",
       "\n",
       "    .dataframe thead th {\n",
       "        text-align: right;\n",
       "    }\n",
       "</style>\n",
       "<table border=\"1\" class=\"dataframe\">\n",
       "  <thead>\n",
       "    <tr style=\"text-align: right;\">\n",
       "      <th></th>\n",
       "      <th>fire_name</th>\n",
       "      <th>acres_burned</th>\n",
       "      <th>state</th>\n",
       "      <th>latitude</th>\n",
       "      <th>longitude</th>\n",
       "      <th>fire_year</th>\n",
       "      <th>discovery_date</th>\n",
       "      <th>contain_date</th>\n",
       "    </tr>\n",
       "  </thead>\n",
       "  <tbody>\n",
       "    <tr>\n",
       "      <th>0</th>\n",
       "      <td>FOUNTAIN</td>\n",
       "      <td>0.10</td>\n",
       "      <td>CA</td>\n",
       "      <td>40.036944</td>\n",
       "      <td>-121.005833</td>\n",
       "      <td>2005</td>\n",
       "      <td>2005-02-02 00:00:00</td>\n",
       "      <td>2005-02-02 00:00:00</td>\n",
       "    </tr>\n",
       "    <tr>\n",
       "      <th>1</th>\n",
       "      <td>PIGEON</td>\n",
       "      <td>0.25</td>\n",
       "      <td>CA</td>\n",
       "      <td>38.933056</td>\n",
       "      <td>-120.404444</td>\n",
       "      <td>2004</td>\n",
       "      <td>2004-05-12 00:00:00</td>\n",
       "      <td>2004-05-12 00:00:00</td>\n",
       "    </tr>\n",
       "    <tr>\n",
       "      <th>2</th>\n",
       "      <td>SLACK</td>\n",
       "      <td>0.10</td>\n",
       "      <td>CA</td>\n",
       "      <td>38.984167</td>\n",
       "      <td>-120.735556</td>\n",
       "      <td>2004</td>\n",
       "      <td>2004-05-31 00:00:00</td>\n",
       "      <td>2004-05-31 00:00:00</td>\n",
       "    </tr>\n",
       "    <tr>\n",
       "      <th>3</th>\n",
       "      <td>DEER</td>\n",
       "      <td>0.10</td>\n",
       "      <td>CA</td>\n",
       "      <td>38.559167</td>\n",
       "      <td>-119.913333</td>\n",
       "      <td>2004</td>\n",
       "      <td>2004-06-28 00:00:00</td>\n",
       "      <td>2004-07-03 00:00:00</td>\n",
       "    </tr>\n",
       "    <tr>\n",
       "      <th>4</th>\n",
       "      <td>STEVENOT</td>\n",
       "      <td>0.10</td>\n",
       "      <td>CA</td>\n",
       "      <td>38.559167</td>\n",
       "      <td>-119.933056</td>\n",
       "      <td>2004</td>\n",
       "      <td>2004-06-28 00:00:00</td>\n",
       "      <td>2004-07-03 00:00:00</td>\n",
       "    </tr>\n",
       "    <tr>\n",
       "      <th>5</th>\n",
       "      <td>HIDDEN</td>\n",
       "      <td>0.10</td>\n",
       "      <td>CA</td>\n",
       "      <td>38.635278</td>\n",
       "      <td>-120.103611</td>\n",
       "      <td>2004</td>\n",
       "      <td>2004-06-30 00:00:00</td>\n",
       "      <td>2004-07-01 00:00:00</td>\n",
       "    </tr>\n",
       "    <tr>\n",
       "      <th>6</th>\n",
       "      <td>FORK</td>\n",
       "      <td>0.10</td>\n",
       "      <td>CA</td>\n",
       "      <td>38.688333</td>\n",
       "      <td>-120.153333</td>\n",
       "      <td>2004</td>\n",
       "      <td>2004-07-01 00:00:00</td>\n",
       "      <td>2004-07-02 00:00:00</td>\n",
       "    </tr>\n",
       "    <tr>\n",
       "      <th>7</th>\n",
       "      <td>SLATE</td>\n",
       "      <td>0.80</td>\n",
       "      <td>CA</td>\n",
       "      <td>40.968056</td>\n",
       "      <td>-122.433889</td>\n",
       "      <td>2005</td>\n",
       "      <td>2005-03-08 00:00:00</td>\n",
       "      <td>2005-03-08 00:00:00</td>\n",
       "    </tr>\n",
       "    <tr>\n",
       "      <th>8</th>\n",
       "      <td>SHASTA</td>\n",
       "      <td>1.00</td>\n",
       "      <td>CA</td>\n",
       "      <td>41.233611</td>\n",
       "      <td>-122.283333</td>\n",
       "      <td>2005</td>\n",
       "      <td>2005-03-15 00:00:00</td>\n",
       "      <td>2005-03-15 00:00:00</td>\n",
       "    </tr>\n",
       "    <tr>\n",
       "      <th>9</th>\n",
       "      <td>TANGLEFOOT</td>\n",
       "      <td>0.10</td>\n",
       "      <td>CA</td>\n",
       "      <td>38.548333</td>\n",
       "      <td>-120.149167</td>\n",
       "      <td>2004</td>\n",
       "      <td>2004-07-01 00:00:00</td>\n",
       "      <td>2004-07-02 00:00:00</td>\n",
       "    </tr>\n",
       "    <tr>\n",
       "      <th>10</th>\n",
       "      <td>FORK #2</td>\n",
       "      <td>0.10</td>\n",
       "      <td>CA</td>\n",
       "      <td>38.691667</td>\n",
       "      <td>-120.159722</td>\n",
       "      <td>2004</td>\n",
       "      <td>2004-07-02 00:00:00</td>\n",
       "      <td>2004-07-03 00:00:00</td>\n",
       "    </tr>\n",
       "    <tr>\n",
       "      <th>11</th>\n",
       "      <td>MOKE #2</td>\n",
       "      <td>0.10</td>\n",
       "      <td>CA</td>\n",
       "      <td>38.527500</td>\n",
       "      <td>-120.106111</td>\n",
       "      <td>2004</td>\n",
       "      <td>2004-07-02 00:00:00</td>\n",
       "      <td>2004-07-03 00:00:00</td>\n",
       "    </tr>\n",
       "    <tr>\n",
       "      <th>12</th>\n",
       "      <td>WRIGHTS</td>\n",
       "      <td>0.10</td>\n",
       "      <td>CA</td>\n",
       "      <td>38.786667</td>\n",
       "      <td>-120.193333</td>\n",
       "      <td>2004</td>\n",
       "      <td>2004-09-03 00:00:00</td>\n",
       "      <td>2004-09-03 00:00:00</td>\n",
       "    </tr>\n",
       "    <tr>\n",
       "      <th>13</th>\n",
       "      <td>TIGER</td>\n",
       "      <td>6.00</td>\n",
       "      <td>CA</td>\n",
       "      <td>38.433333</td>\n",
       "      <td>-120.510000</td>\n",
       "      <td>2004</td>\n",
       "      <td>2004-09-28 00:00:00</td>\n",
       "      <td>2004-09-28 00:00:00</td>\n",
       "    </tr>\n",
       "    <tr>\n",
       "      <th>14</th>\n",
       "      <td>BROWN</td>\n",
       "      <td>0.20</td>\n",
       "      <td>CA</td>\n",
       "      <td>38.675833</td>\n",
       "      <td>-120.279722</td>\n",
       "      <td>2004</td>\n",
       "      <td>2004-10-03 00:00:00</td>\n",
       "      <td>2004-10-03 00:00:00</td>\n",
       "    </tr>\n",
       "    <tr>\n",
       "      <th>15</th>\n",
       "      <td>SOPIAGO</td>\n",
       "      <td>0.10</td>\n",
       "      <td>CA</td>\n",
       "      <td>38.564167</td>\n",
       "      <td>-120.542222</td>\n",
       "      <td>2004</td>\n",
       "      <td>2004-10-03 00:00:00</td>\n",
       "      <td>2004-10-03 00:00:00</td>\n",
       "    </tr>\n",
       "    <tr>\n",
       "      <th>16</th>\n",
       "      <td>POWER</td>\n",
       "      <td>16823.00</td>\n",
       "      <td>CA</td>\n",
       "      <td>38.523333</td>\n",
       "      <td>-120.211667</td>\n",
       "      <td>2004</td>\n",
       "      <td>2004-10-06 00:00:00</td>\n",
       "      <td>2004-10-21 00:00:00</td>\n",
       "    </tr>\n",
       "    <tr>\n",
       "      <th>17</th>\n",
       "      <td>FREDS</td>\n",
       "      <td>7700.00</td>\n",
       "      <td>CA</td>\n",
       "      <td>38.780000</td>\n",
       "      <td>-120.260000</td>\n",
       "      <td>2004</td>\n",
       "      <td>2004-10-13 00:00:00</td>\n",
       "      <td>2004-10-17 00:00:00</td>\n",
       "    </tr>\n",
       "    <tr>\n",
       "      <th>18</th>\n",
       "      <td>HARTLESS</td>\n",
       "      <td>0.10</td>\n",
       "      <td>CA</td>\n",
       "      <td>38.945000</td>\n",
       "      <td>-120.411667</td>\n",
       "      <td>2004</td>\n",
       "      <td>2004-11-20 00:00:00</td>\n",
       "      <td>2004-11-21 00:00:00</td>\n",
       "    </tr>\n",
       "    <tr>\n",
       "      <th>19</th>\n",
       "      <td>SPRING</td>\n",
       "      <td>0.10</td>\n",
       "      <td>NM</td>\n",
       "      <td>33.440833</td>\n",
       "      <td>-105.720556</td>\n",
       "      <td>2004</td>\n",
       "      <td>2004-06-04 00:00:00</td>\n",
       "      <td>2004-06-04 00:00:00</td>\n",
       "    </tr>\n",
       "  </tbody>\n",
       "</table>\n",
       "</div>"
      ],
      "text/plain": [
       "     fire_name  acres_burned state   latitude   longitude  fire_year   \n",
       "0     FOUNTAIN          0.10    CA  40.036944 -121.005833       2005  \\\n",
       "1       PIGEON          0.25    CA  38.933056 -120.404444       2004   \n",
       "2        SLACK          0.10    CA  38.984167 -120.735556       2004   \n",
       "3         DEER          0.10    CA  38.559167 -119.913333       2004   \n",
       "4     STEVENOT          0.10    CA  38.559167 -119.933056       2004   \n",
       "5       HIDDEN          0.10    CA  38.635278 -120.103611       2004   \n",
       "6         FORK          0.10    CA  38.688333 -120.153333       2004   \n",
       "7        SLATE          0.80    CA  40.968056 -122.433889       2005   \n",
       "8       SHASTA          1.00    CA  41.233611 -122.283333       2005   \n",
       "9   TANGLEFOOT          0.10    CA  38.548333 -120.149167       2004   \n",
       "10     FORK #2          0.10    CA  38.691667 -120.159722       2004   \n",
       "11     MOKE #2          0.10    CA  38.527500 -120.106111       2004   \n",
       "12     WRIGHTS          0.10    CA  38.786667 -120.193333       2004   \n",
       "13       TIGER          6.00    CA  38.433333 -120.510000       2004   \n",
       "14       BROWN          0.20    CA  38.675833 -120.279722       2004   \n",
       "15     SOPIAGO          0.10    CA  38.564167 -120.542222       2004   \n",
       "16       POWER      16823.00    CA  38.523333 -120.211667       2004   \n",
       "17       FREDS       7700.00    CA  38.780000 -120.260000       2004   \n",
       "18    HARTLESS          0.10    CA  38.945000 -120.411667       2004   \n",
       "19      SPRING          0.10    NM  33.440833 -105.720556       2004   \n",
       "\n",
       "         discovery_date         contain_date  \n",
       "0   2005-02-02 00:00:00  2005-02-02 00:00:00  \n",
       "1   2004-05-12 00:00:00  2004-05-12 00:00:00  \n",
       "2   2004-05-31 00:00:00  2004-05-31 00:00:00  \n",
       "3   2004-06-28 00:00:00  2004-07-03 00:00:00  \n",
       "4   2004-06-28 00:00:00  2004-07-03 00:00:00  \n",
       "5   2004-06-30 00:00:00  2004-07-01 00:00:00  \n",
       "6   2004-07-01 00:00:00  2004-07-02 00:00:00  \n",
       "7   2005-03-08 00:00:00  2005-03-08 00:00:00  \n",
       "8   2005-03-15 00:00:00  2005-03-15 00:00:00  \n",
       "9   2004-07-01 00:00:00  2004-07-02 00:00:00  \n",
       "10  2004-07-02 00:00:00  2004-07-03 00:00:00  \n",
       "11  2004-07-02 00:00:00  2004-07-03 00:00:00  \n",
       "12  2004-09-03 00:00:00  2004-09-03 00:00:00  \n",
       "13  2004-09-28 00:00:00  2004-09-28 00:00:00  \n",
       "14  2004-10-03 00:00:00  2004-10-03 00:00:00  \n",
       "15  2004-10-03 00:00:00  2004-10-03 00:00:00  \n",
       "16  2004-10-06 00:00:00  2004-10-21 00:00:00  \n",
       "17  2004-10-13 00:00:00  2004-10-17 00:00:00  \n",
       "18  2004-11-20 00:00:00  2004-11-21 00:00:00  \n",
       "19  2004-06-04 00:00:00  2004-06-04 00:00:00  "
      ]
     },
     "execution_count": 5,
     "metadata": {},
     "output_type": "execute_result"
    }
   ],
   "source": [
    "df = df.rename(columns={'fire_size': 'acres_burned'})\n",
    "df.head(20)"
   ]
  },
  {
   "cell_type": "markdown",
   "id": "344bbe7d",
   "metadata": {},
   "source": [
    "Q3. Convert the data in the `fire_name` column such that the data starts with a capital letter. (ie `PIGEON` -> `Pigeon`)"
   ]
  },
  {
   "cell_type": "code",
   "execution_count": 6,
   "id": "c2fdae0e",
   "metadata": {},
   "outputs": [],
   "source": [
    "df['fire_name'] = df['fire_name'].str.capitalize()"
   ]
  },
  {
   "cell_type": "markdown",
   "id": "9de787ed",
   "metadata": {},
   "source": [
    "Q4. Drop unnecessary rows- having fire size less than 10 acres."
   ]
  },
  {
   "cell_type": "code",
   "execution_count": 7,
   "id": "22be3f4c",
   "metadata": {},
   "outputs": [
    {
     "data": {
      "text/html": [
       "<div>\n",
       "<style scoped>\n",
       "    .dataframe tbody tr th:only-of-type {\n",
       "        vertical-align: middle;\n",
       "    }\n",
       "\n",
       "    .dataframe tbody tr th {\n",
       "        vertical-align: top;\n",
       "    }\n",
       "\n",
       "    .dataframe thead th {\n",
       "        text-align: right;\n",
       "    }\n",
       "</style>\n",
       "<table border=\"1\" class=\"dataframe\">\n",
       "  <thead>\n",
       "    <tr style=\"text-align: right;\">\n",
       "      <th></th>\n",
       "      <th>fire_name</th>\n",
       "      <th>acres_burned</th>\n",
       "      <th>state</th>\n",
       "      <th>latitude</th>\n",
       "      <th>longitude</th>\n",
       "      <th>fire_year</th>\n",
       "      <th>discovery_date</th>\n",
       "      <th>contain_date</th>\n",
       "    </tr>\n",
       "  </thead>\n",
       "  <tbody>\n",
       "    <tr>\n",
       "      <th>16</th>\n",
       "      <td>Power</td>\n",
       "      <td>16823.0</td>\n",
       "      <td>CA</td>\n",
       "      <td>38.523333</td>\n",
       "      <td>-120.211667</td>\n",
       "      <td>2004</td>\n",
       "      <td>2004-10-06 00:00:00</td>\n",
       "      <td>2004-10-21 00:00:00</td>\n",
       "    </tr>\n",
       "    <tr>\n",
       "      <th>17</th>\n",
       "      <td>Freds</td>\n",
       "      <td>7700.0</td>\n",
       "      <td>CA</td>\n",
       "      <td>38.780000</td>\n",
       "      <td>-120.260000</td>\n",
       "      <td>2004</td>\n",
       "      <td>2004-10-13 00:00:00</td>\n",
       "      <td>2004-10-17 00:00:00</td>\n",
       "    </tr>\n",
       "    <tr>\n",
       "      <th>37</th>\n",
       "      <td>Howard gap</td>\n",
       "      <td>50.3</td>\n",
       "      <td>NC</td>\n",
       "      <td>35.000278</td>\n",
       "      <td>-83.351111</td>\n",
       "      <td>2005</td>\n",
       "      <td>2005-01-27 00:00:00</td>\n",
       "      <td>2005-01-28 00:00:00</td>\n",
       "    </tr>\n",
       "    <tr>\n",
       "      <th>39</th>\n",
       "      <td>Austin creek</td>\n",
       "      <td>125.0</td>\n",
       "      <td>NC</td>\n",
       "      <td>36.001667</td>\n",
       "      <td>-81.590000</td>\n",
       "      <td>2005</td>\n",
       "      <td>2005-02-12 00:00:00</td>\n",
       "      <td>2005-02-13 00:00:00</td>\n",
       "    </tr>\n",
       "    <tr>\n",
       "      <th>40</th>\n",
       "      <td>Headquarters</td>\n",
       "      <td>25.0</td>\n",
       "      <td>NC</td>\n",
       "      <td>35.985000</td>\n",
       "      <td>-81.851667</td>\n",
       "      <td>2005</td>\n",
       "      <td>2005-04-16 00:00:00</td>\n",
       "      <td>2005-04-16 00:00:00</td>\n",
       "    </tr>\n",
       "    <tr>\n",
       "      <th>70</th>\n",
       "      <td>Olsen hill</td>\n",
       "      <td>17.0</td>\n",
       "      <td>MT</td>\n",
       "      <td>48.966667</td>\n",
       "      <td>-115.206667</td>\n",
       "      <td>2005</td>\n",
       "      <td>2005-05-02 00:00:00</td>\n",
       "      <td>2005-05-02 00:00:00</td>\n",
       "    </tr>\n",
       "    <tr>\n",
       "      <th>85</th>\n",
       "      <td>Antelope</td>\n",
       "      <td>45.6</td>\n",
       "      <td>NM</td>\n",
       "      <td>32.467222</td>\n",
       "      <td>-104.941667</td>\n",
       "      <td>2005</td>\n",
       "      <td>2005-07-07 00:00:00</td>\n",
       "      <td>2005-07-08 00:00:00</td>\n",
       "    </tr>\n",
       "    <tr>\n",
       "      <th>111</th>\n",
       "      <td>Summit</td>\n",
       "      <td>80.0</td>\n",
       "      <td>NV</td>\n",
       "      <td>38.255556</td>\n",
       "      <td>-118.486111</td>\n",
       "      <td>2005</td>\n",
       "      <td>2005-07-17 00:00:00</td>\n",
       "      <td>2005-07-18 00:00:00</td>\n",
       "    </tr>\n",
       "    <tr>\n",
       "      <th>114</th>\n",
       "      <td>8gn</td>\n",
       "      <td>80.0</td>\n",
       "      <td>CO</td>\n",
       "      <td>37.345000</td>\n",
       "      <td>-102.805833</td>\n",
       "      <td>2005</td>\n",
       "      <td>2005-07-07 00:00:00</td>\n",
       "      <td>2005-07-07 00:00:00</td>\n",
       "    </tr>\n",
       "    <tr>\n",
       "      <th>116</th>\n",
       "      <td>Thompson butte</td>\n",
       "      <td>119.0</td>\n",
       "      <td>SD</td>\n",
       "      <td>43.899167</td>\n",
       "      <td>-102.954722</td>\n",
       "      <td>2005</td>\n",
       "      <td>2005-07-16 00:00:00</td>\n",
       "      <td>2005-07-17 00:00:00</td>\n",
       "    </tr>\n",
       "    <tr>\n",
       "      <th>117</th>\n",
       "      <td>Charles draw</td>\n",
       "      <td>119.0</td>\n",
       "      <td>SD</td>\n",
       "      <td>43.892778</td>\n",
       "      <td>-102.948056</td>\n",
       "      <td>2005</td>\n",
       "      <td>2005-07-16 00:00:00</td>\n",
       "      <td>2005-07-16 00:00:00</td>\n",
       "    </tr>\n",
       "    <tr>\n",
       "      <th>125</th>\n",
       "      <td>32 mile yaak</td>\n",
       "      <td>15.4</td>\n",
       "      <td>MT</td>\n",
       "      <td>48.846944</td>\n",
       "      <td>-115.662222</td>\n",
       "      <td>2005</td>\n",
       "      <td>2005-04-20 00:00:00</td>\n",
       "      <td>2005-04-20 00:00:00</td>\n",
       "    </tr>\n",
       "    <tr>\n",
       "      <th>136</th>\n",
       "      <td>Bancos</td>\n",
       "      <td>30.0</td>\n",
       "      <td>NM</td>\n",
       "      <td>36.934722</td>\n",
       "      <td>-107.349722</td>\n",
       "      <td>2005</td>\n",
       "      <td>2005-07-14 00:00:00</td>\n",
       "      <td>2005-07-16 00:00:00</td>\n",
       "    </tr>\n",
       "    <tr>\n",
       "      <th>178</th>\n",
       "      <td>Chimineas</td>\n",
       "      <td>90.0</td>\n",
       "      <td>CA</td>\n",
       "      <td>35.135833</td>\n",
       "      <td>-120.002500</td>\n",
       "      <td>2005</td>\n",
       "      <td>2005-07-01 00:00:00</td>\n",
       "      <td>2005-07-03 00:00:00</td>\n",
       "    </tr>\n",
       "    <tr>\n",
       "      <th>188</th>\n",
       "      <td>Three</td>\n",
       "      <td>16100.0</td>\n",
       "      <td>AZ</td>\n",
       "      <td>33.723333</td>\n",
       "      <td>-111.275000</td>\n",
       "      <td>2005</td>\n",
       "      <td>2005-06-21 00:00:00</td>\n",
       "      <td>2005-06-29 00:00:00</td>\n",
       "    </tr>\n",
       "    <tr>\n",
       "      <th>229</th>\n",
       "      <td>Slinkard 2</td>\n",
       "      <td>89.0</td>\n",
       "      <td>CA</td>\n",
       "      <td>38.573611</td>\n",
       "      <td>-119.554722</td>\n",
       "      <td>2005</td>\n",
       "      <td>2005-07-21 00:00:00</td>\n",
       "      <td>2005-07-24 00:00:00</td>\n",
       "    </tr>\n",
       "    <tr>\n",
       "      <th>268</th>\n",
       "      <td>Barney lake</td>\n",
       "      <td>12.0</td>\n",
       "      <td>MN</td>\n",
       "      <td>47.481667</td>\n",
       "      <td>-93.671389</td>\n",
       "      <td>2005</td>\n",
       "      <td>2005-04-17 00:00:00</td>\n",
       "      <td>2005-04-17 00:00:00</td>\n",
       "    </tr>\n",
       "    <tr>\n",
       "      <th>284</th>\n",
       "      <td>Cemetery</td>\n",
       "      <td>55.0</td>\n",
       "      <td>TX</td>\n",
       "      <td>31.312500</td>\n",
       "      <td>-94.270833</td>\n",
       "      <td>2005</td>\n",
       "      <td>2005-01-25 00:00:00</td>\n",
       "      <td>2005-01-25 00:00:00</td>\n",
       "    </tr>\n",
       "    <tr>\n",
       "      <th>287</th>\n",
       "      <td>Enon cemetary</td>\n",
       "      <td>55.0</td>\n",
       "      <td>TX</td>\n",
       "      <td>31.354167</td>\n",
       "      <td>-95.085278</td>\n",
       "      <td>2005</td>\n",
       "      <td>2005-04-07 00:00:00</td>\n",
       "      <td>2005-04-08 00:00:00</td>\n",
       "    </tr>\n",
       "    <tr>\n",
       "      <th>299</th>\n",
       "      <td>Rj hero</td>\n",
       "      <td>16.0</td>\n",
       "      <td>TX</td>\n",
       "      <td>31.436667</td>\n",
       "      <td>-95.150556</td>\n",
       "      <td>2005</td>\n",
       "      <td>2005-05-20 00:00:00</td>\n",
       "      <td>2005-05-20 00:00:00</td>\n",
       "    </tr>\n",
       "  </tbody>\n",
       "</table>\n",
       "</div>"
      ],
      "text/plain": [
       "          fire_name  acres_burned state   latitude   longitude  fire_year   \n",
       "16            Power       16823.0    CA  38.523333 -120.211667       2004  \\\n",
       "17            Freds        7700.0    CA  38.780000 -120.260000       2004   \n",
       "37       Howard gap          50.3    NC  35.000278  -83.351111       2005   \n",
       "39     Austin creek         125.0    NC  36.001667  -81.590000       2005   \n",
       "40     Headquarters          25.0    NC  35.985000  -81.851667       2005   \n",
       "70       Olsen hill          17.0    MT  48.966667 -115.206667       2005   \n",
       "85         Antelope          45.6    NM  32.467222 -104.941667       2005   \n",
       "111          Summit          80.0    NV  38.255556 -118.486111       2005   \n",
       "114             8gn          80.0    CO  37.345000 -102.805833       2005   \n",
       "116  Thompson butte         119.0    SD  43.899167 -102.954722       2005   \n",
       "117    Charles draw         119.0    SD  43.892778 -102.948056       2005   \n",
       "125    32 mile yaak          15.4    MT  48.846944 -115.662222       2005   \n",
       "136          Bancos          30.0    NM  36.934722 -107.349722       2005   \n",
       "178       Chimineas          90.0    CA  35.135833 -120.002500       2005   \n",
       "188           Three       16100.0    AZ  33.723333 -111.275000       2005   \n",
       "229      Slinkard 2          89.0    CA  38.573611 -119.554722       2005   \n",
       "268     Barney lake          12.0    MN  47.481667  -93.671389       2005   \n",
       "284        Cemetery          55.0    TX  31.312500  -94.270833       2005   \n",
       "287   Enon cemetary          55.0    TX  31.354167  -95.085278       2005   \n",
       "299         Rj hero          16.0    TX  31.436667  -95.150556       2005   \n",
       "\n",
       "          discovery_date         contain_date  \n",
       "16   2004-10-06 00:00:00  2004-10-21 00:00:00  \n",
       "17   2004-10-13 00:00:00  2004-10-17 00:00:00  \n",
       "37   2005-01-27 00:00:00  2005-01-28 00:00:00  \n",
       "39   2005-02-12 00:00:00  2005-02-13 00:00:00  \n",
       "40   2005-04-16 00:00:00  2005-04-16 00:00:00  \n",
       "70   2005-05-02 00:00:00  2005-05-02 00:00:00  \n",
       "85   2005-07-07 00:00:00  2005-07-08 00:00:00  \n",
       "111  2005-07-17 00:00:00  2005-07-18 00:00:00  \n",
       "114  2005-07-07 00:00:00  2005-07-07 00:00:00  \n",
       "116  2005-07-16 00:00:00  2005-07-17 00:00:00  \n",
       "117  2005-07-16 00:00:00  2005-07-16 00:00:00  \n",
       "125  2005-04-20 00:00:00  2005-04-20 00:00:00  \n",
       "136  2005-07-14 00:00:00  2005-07-16 00:00:00  \n",
       "178  2005-07-01 00:00:00  2005-07-03 00:00:00  \n",
       "188  2005-06-21 00:00:00  2005-06-29 00:00:00  \n",
       "229  2005-07-21 00:00:00  2005-07-24 00:00:00  \n",
       "268  2005-04-17 00:00:00  2005-04-17 00:00:00  \n",
       "284  2005-01-25 00:00:00  2005-01-25 00:00:00  \n",
       "287  2005-04-07 00:00:00  2005-04-08 00:00:00  \n",
       "299  2005-05-20 00:00:00  2005-05-20 00:00:00  "
      ]
     },
     "execution_count": 7,
     "metadata": {},
     "output_type": "execute_result"
    }
   ],
   "source": [
    "df = df[df['acres_burned'] > 10]\n",
    "df.head(20)"
   ]
  },
  {
   "cell_type": "markdown",
   "id": "6b437c6e",
   "metadata": {},
   "source": [
    "\n",
    "Q5. Drop duplicate rows, if any. If so, keep the first duplicate of each such duplicate set.\n"
   ]
  },
  {
   "cell_type": "code",
   "execution_count": 8,
   "id": "b4a2144e",
   "metadata": {},
   "outputs": [
    {
     "data": {
      "text/html": [
       "<div>\n",
       "<style scoped>\n",
       "    .dataframe tbody tr th:only-of-type {\n",
       "        vertical-align: middle;\n",
       "    }\n",
       "\n",
       "    .dataframe tbody tr th {\n",
       "        vertical-align: top;\n",
       "    }\n",
       "\n",
       "    .dataframe thead th {\n",
       "        text-align: right;\n",
       "    }\n",
       "</style>\n",
       "<table border=\"1\" class=\"dataframe\">\n",
       "  <thead>\n",
       "    <tr style=\"text-align: right;\">\n",
       "      <th></th>\n",
       "      <th>fire_name</th>\n",
       "      <th>acres_burned</th>\n",
       "      <th>state</th>\n",
       "      <th>latitude</th>\n",
       "      <th>longitude</th>\n",
       "      <th>fire_year</th>\n",
       "      <th>discovery_date</th>\n",
       "      <th>contain_date</th>\n",
       "    </tr>\n",
       "  </thead>\n",
       "  <tbody>\n",
       "    <tr>\n",
       "      <th>16</th>\n",
       "      <td>Power</td>\n",
       "      <td>16823.0</td>\n",
       "      <td>CA</td>\n",
       "      <td>38.523333</td>\n",
       "      <td>-120.211667</td>\n",
       "      <td>2004</td>\n",
       "      <td>2004-10-06 00:00:00</td>\n",
       "      <td>2004-10-21 00:00:00</td>\n",
       "    </tr>\n",
       "    <tr>\n",
       "      <th>17</th>\n",
       "      <td>Freds</td>\n",
       "      <td>7700.0</td>\n",
       "      <td>CA</td>\n",
       "      <td>38.780000</td>\n",
       "      <td>-120.260000</td>\n",
       "      <td>2004</td>\n",
       "      <td>2004-10-13 00:00:00</td>\n",
       "      <td>2004-10-17 00:00:00</td>\n",
       "    </tr>\n",
       "    <tr>\n",
       "      <th>37</th>\n",
       "      <td>Howard gap</td>\n",
       "      <td>50.3</td>\n",
       "      <td>NC</td>\n",
       "      <td>35.000278</td>\n",
       "      <td>-83.351111</td>\n",
       "      <td>2005</td>\n",
       "      <td>2005-01-27 00:00:00</td>\n",
       "      <td>2005-01-28 00:00:00</td>\n",
       "    </tr>\n",
       "    <tr>\n",
       "      <th>39</th>\n",
       "      <td>Austin creek</td>\n",
       "      <td>125.0</td>\n",
       "      <td>NC</td>\n",
       "      <td>36.001667</td>\n",
       "      <td>-81.590000</td>\n",
       "      <td>2005</td>\n",
       "      <td>2005-02-12 00:00:00</td>\n",
       "      <td>2005-02-13 00:00:00</td>\n",
       "    </tr>\n",
       "    <tr>\n",
       "      <th>40</th>\n",
       "      <td>Headquarters</td>\n",
       "      <td>25.0</td>\n",
       "      <td>NC</td>\n",
       "      <td>35.985000</td>\n",
       "      <td>-81.851667</td>\n",
       "      <td>2005</td>\n",
       "      <td>2005-04-16 00:00:00</td>\n",
       "      <td>2005-04-16 00:00:00</td>\n",
       "    </tr>\n",
       "    <tr>\n",
       "      <th>...</th>\n",
       "      <td>...</td>\n",
       "      <td>...</td>\n",
       "      <td>...</td>\n",
       "      <td>...</td>\n",
       "      <td>...</td>\n",
       "      <td>...</td>\n",
       "      <td>...</td>\n",
       "      <td>...</td>\n",
       "    </tr>\n",
       "    <tr>\n",
       "      <th>1880387</th>\n",
       "      <td>Soda</td>\n",
       "      <td>24.0</td>\n",
       "      <td>CA</td>\n",
       "      <td>39.045908</td>\n",
       "      <td>-123.265522</td>\n",
       "      <td>2015</td>\n",
       "      <td>2015-07-04 00:00:00</td>\n",
       "      <td>2015-07-04 00:00:00</td>\n",
       "    </tr>\n",
       "    <tr>\n",
       "      <th>1880399</th>\n",
       "      <td>Gilman</td>\n",
       "      <td>73.0</td>\n",
       "      <td>CA</td>\n",
       "      <td>33.892120</td>\n",
       "      <td>-117.079065</td>\n",
       "      <td>2009</td>\n",
       "      <td>2009-05-03 00:00:00</td>\n",
       "      <td>2009-05-03 00:00:00</td>\n",
       "    </tr>\n",
       "    <tr>\n",
       "      <th>1880411</th>\n",
       "      <td>Terra</td>\n",
       "      <td>23.0</td>\n",
       "      <td>CA</td>\n",
       "      <td>35.985512</td>\n",
       "      <td>-118.915364</td>\n",
       "      <td>2009</td>\n",
       "      <td>2009-06-19 00:00:00</td>\n",
       "      <td>2009-06-19 00:00:00</td>\n",
       "    </tr>\n",
       "    <tr>\n",
       "      <th>1880419</th>\n",
       "      <td>Slaughterhouse</td>\n",
       "      <td>50.0</td>\n",
       "      <td>CA</td>\n",
       "      <td>32.906591</td>\n",
       "      <td>-116.942448</td>\n",
       "      <td>2010</td>\n",
       "      <td>2010-05-29 00:00:00</td>\n",
       "      <td>NaN</td>\n",
       "    </tr>\n",
       "    <tr>\n",
       "      <th>1880441</th>\n",
       "      <td>NaN</td>\n",
       "      <td>11.0</td>\n",
       "      <td>CA</td>\n",
       "      <td>34.450000</td>\n",
       "      <td>-118.583333</td>\n",
       "      <td>2015</td>\n",
       "      <td>2015-12-07 00:00:00</td>\n",
       "      <td>NaN</td>\n",
       "    </tr>\n",
       "  </tbody>\n",
       "</table>\n",
       "<p>238931 rows × 8 columns</p>\n",
       "</div>"
      ],
      "text/plain": [
       "              fire_name  acres_burned state   latitude   longitude  fire_year   \n",
       "16                Power       16823.0    CA  38.523333 -120.211667       2004  \\\n",
       "17                Freds        7700.0    CA  38.780000 -120.260000       2004   \n",
       "37           Howard gap          50.3    NC  35.000278  -83.351111       2005   \n",
       "39         Austin creek         125.0    NC  36.001667  -81.590000       2005   \n",
       "40         Headquarters          25.0    NC  35.985000  -81.851667       2005   \n",
       "...                 ...           ...   ...        ...         ...        ...   \n",
       "1880387            Soda          24.0    CA  39.045908 -123.265522       2015   \n",
       "1880399          Gilman          73.0    CA  33.892120 -117.079065       2009   \n",
       "1880411           Terra          23.0    CA  35.985512 -118.915364       2009   \n",
       "1880419  Slaughterhouse          50.0    CA  32.906591 -116.942448       2010   \n",
       "1880441             NaN          11.0    CA  34.450000 -118.583333       2015   \n",
       "\n",
       "              discovery_date         contain_date  \n",
       "16       2004-10-06 00:00:00  2004-10-21 00:00:00  \n",
       "17       2004-10-13 00:00:00  2004-10-17 00:00:00  \n",
       "37       2005-01-27 00:00:00  2005-01-28 00:00:00  \n",
       "39       2005-02-12 00:00:00  2005-02-13 00:00:00  \n",
       "40       2005-04-16 00:00:00  2005-04-16 00:00:00  \n",
       "...                      ...                  ...  \n",
       "1880387  2015-07-04 00:00:00  2015-07-04 00:00:00  \n",
       "1880399  2009-05-03 00:00:00  2009-05-03 00:00:00  \n",
       "1880411  2009-06-19 00:00:00  2009-06-19 00:00:00  \n",
       "1880419  2010-05-29 00:00:00                  NaN  \n",
       "1880441  2015-12-07 00:00:00                  NaN  \n",
       "\n",
       "[238931 rows x 8 columns]"
      ]
     },
     "execution_count": 8,
     "metadata": {},
     "output_type": "execute_result"
    }
   ],
   "source": [
    "df= df.drop_duplicates(keep='first')\n",
    "df"
   ]
  },
  {
   "cell_type": "markdown",
   "id": "03937737",
   "metadata": {},
   "source": [
    "\n",
    "Q6. Ensure that the `date` columns have the correct datatype.\n"
   ]
  },
  {
   "cell_type": "code",
   "execution_count": 9,
   "id": "9ac5da6c",
   "metadata": {},
   "outputs": [
    {
     "data": {
      "text/html": [
       "<div>\n",
       "<style scoped>\n",
       "    .dataframe tbody tr th:only-of-type {\n",
       "        vertical-align: middle;\n",
       "    }\n",
       "\n",
       "    .dataframe tbody tr th {\n",
       "        vertical-align: top;\n",
       "    }\n",
       "\n",
       "    .dataframe thead th {\n",
       "        text-align: right;\n",
       "    }\n",
       "</style>\n",
       "<table border=\"1\" class=\"dataframe\">\n",
       "  <thead>\n",
       "    <tr style=\"text-align: right;\">\n",
       "      <th></th>\n",
       "      <th>fire_name</th>\n",
       "      <th>acres_burned</th>\n",
       "      <th>state</th>\n",
       "      <th>latitude</th>\n",
       "      <th>longitude</th>\n",
       "      <th>fire_year</th>\n",
       "      <th>discovery_date</th>\n",
       "      <th>contain_date</th>\n",
       "    </tr>\n",
       "  </thead>\n",
       "  <tbody>\n",
       "    <tr>\n",
       "      <th>16</th>\n",
       "      <td>Power</td>\n",
       "      <td>16823.0</td>\n",
       "      <td>CA</td>\n",
       "      <td>38.523333</td>\n",
       "      <td>-120.211667</td>\n",
       "      <td>2004</td>\n",
       "      <td>2004-10-06</td>\n",
       "      <td>2004-10-21</td>\n",
       "    </tr>\n",
       "    <tr>\n",
       "      <th>17</th>\n",
       "      <td>Freds</td>\n",
       "      <td>7700.0</td>\n",
       "      <td>CA</td>\n",
       "      <td>38.780000</td>\n",
       "      <td>-120.260000</td>\n",
       "      <td>2004</td>\n",
       "      <td>2004-10-13</td>\n",
       "      <td>2004-10-17</td>\n",
       "    </tr>\n",
       "    <tr>\n",
       "      <th>37</th>\n",
       "      <td>Howard gap</td>\n",
       "      <td>50.3</td>\n",
       "      <td>NC</td>\n",
       "      <td>35.000278</td>\n",
       "      <td>-83.351111</td>\n",
       "      <td>2005</td>\n",
       "      <td>2005-01-27</td>\n",
       "      <td>2005-01-28</td>\n",
       "    </tr>\n",
       "    <tr>\n",
       "      <th>39</th>\n",
       "      <td>Austin creek</td>\n",
       "      <td>125.0</td>\n",
       "      <td>NC</td>\n",
       "      <td>36.001667</td>\n",
       "      <td>-81.590000</td>\n",
       "      <td>2005</td>\n",
       "      <td>2005-02-12</td>\n",
       "      <td>2005-02-13</td>\n",
       "    </tr>\n",
       "    <tr>\n",
       "      <th>40</th>\n",
       "      <td>Headquarters</td>\n",
       "      <td>25.0</td>\n",
       "      <td>NC</td>\n",
       "      <td>35.985000</td>\n",
       "      <td>-81.851667</td>\n",
       "      <td>2005</td>\n",
       "      <td>2005-04-16</td>\n",
       "      <td>2005-04-16</td>\n",
       "    </tr>\n",
       "    <tr>\n",
       "      <th>...</th>\n",
       "      <td>...</td>\n",
       "      <td>...</td>\n",
       "      <td>...</td>\n",
       "      <td>...</td>\n",
       "      <td>...</td>\n",
       "      <td>...</td>\n",
       "      <td>...</td>\n",
       "      <td>...</td>\n",
       "    </tr>\n",
       "    <tr>\n",
       "      <th>1880387</th>\n",
       "      <td>Soda</td>\n",
       "      <td>24.0</td>\n",
       "      <td>CA</td>\n",
       "      <td>39.045908</td>\n",
       "      <td>-123.265522</td>\n",
       "      <td>2015</td>\n",
       "      <td>2015-07-04</td>\n",
       "      <td>2015-07-04</td>\n",
       "    </tr>\n",
       "    <tr>\n",
       "      <th>1880399</th>\n",
       "      <td>Gilman</td>\n",
       "      <td>73.0</td>\n",
       "      <td>CA</td>\n",
       "      <td>33.892120</td>\n",
       "      <td>-117.079065</td>\n",
       "      <td>2009</td>\n",
       "      <td>2009-05-03</td>\n",
       "      <td>2009-05-03</td>\n",
       "    </tr>\n",
       "    <tr>\n",
       "      <th>1880411</th>\n",
       "      <td>Terra</td>\n",
       "      <td>23.0</td>\n",
       "      <td>CA</td>\n",
       "      <td>35.985512</td>\n",
       "      <td>-118.915364</td>\n",
       "      <td>2009</td>\n",
       "      <td>2009-06-19</td>\n",
       "      <td>2009-06-19</td>\n",
       "    </tr>\n",
       "    <tr>\n",
       "      <th>1880419</th>\n",
       "      <td>Slaughterhouse</td>\n",
       "      <td>50.0</td>\n",
       "      <td>CA</td>\n",
       "      <td>32.906591</td>\n",
       "      <td>-116.942448</td>\n",
       "      <td>2010</td>\n",
       "      <td>2010-05-29</td>\n",
       "      <td>NaT</td>\n",
       "    </tr>\n",
       "    <tr>\n",
       "      <th>1880441</th>\n",
       "      <td>NaN</td>\n",
       "      <td>11.0</td>\n",
       "      <td>CA</td>\n",
       "      <td>34.450000</td>\n",
       "      <td>-118.583333</td>\n",
       "      <td>2015</td>\n",
       "      <td>2015-12-07</td>\n",
       "      <td>NaT</td>\n",
       "    </tr>\n",
       "  </tbody>\n",
       "</table>\n",
       "<p>238931 rows × 8 columns</p>\n",
       "</div>"
      ],
      "text/plain": [
       "              fire_name  acres_burned state   latitude   longitude  fire_year   \n",
       "16                Power       16823.0    CA  38.523333 -120.211667       2004  \\\n",
       "17                Freds        7700.0    CA  38.780000 -120.260000       2004   \n",
       "37           Howard gap          50.3    NC  35.000278  -83.351111       2005   \n",
       "39         Austin creek         125.0    NC  36.001667  -81.590000       2005   \n",
       "40         Headquarters          25.0    NC  35.985000  -81.851667       2005   \n",
       "...                 ...           ...   ...        ...         ...        ...   \n",
       "1880387            Soda          24.0    CA  39.045908 -123.265522       2015   \n",
       "1880399          Gilman          73.0    CA  33.892120 -117.079065       2009   \n",
       "1880411           Terra          23.0    CA  35.985512 -118.915364       2009   \n",
       "1880419  Slaughterhouse          50.0    CA  32.906591 -116.942448       2010   \n",
       "1880441             NaN          11.0    CA  34.450000 -118.583333       2015   \n",
       "\n",
       "        discovery_date contain_date  \n",
       "16          2004-10-06   2004-10-21  \n",
       "17          2004-10-13   2004-10-17  \n",
       "37          2005-01-27   2005-01-28  \n",
       "39          2005-02-12   2005-02-13  \n",
       "40          2005-04-16   2005-04-16  \n",
       "...                ...          ...  \n",
       "1880387     2015-07-04   2015-07-04  \n",
       "1880399     2009-05-03   2009-05-03  \n",
       "1880411     2009-06-19   2009-06-19  \n",
       "1880419     2010-05-29          NaT  \n",
       "1880441     2015-12-07          NaT  \n",
       "\n",
       "[238931 rows x 8 columns]"
      ]
     },
     "execution_count": 9,
     "metadata": {},
     "output_type": "execute_result"
    }
   ],
   "source": [
    "df['discovery_date'] = pd.to_datetime(df['discovery_date'])\n",
    "df['contain_date'] = pd.to_datetime(df['contain_date'])\n",
    "df"
   ]
  },
  {
   "cell_type": "markdown",
   "id": "c1293775",
   "metadata": {},
   "source": [
    "\n",
    "Q7. Check for missing values in the `contain_date` column. Find the number.\n",
    "\n",
    "a) Check for missing values of  `contain_date`  where fires exceed 10000 acres.\n",
    "\n",
    "b) Check the values of  `contain_date` to see if they are reasonable.\n"
   ]
  },
  {
   "cell_type": "code",
   "execution_count": 10,
   "id": "b7f6acd3",
   "metadata": {},
   "outputs": [
    {
     "data": {
      "text/plain": [
       "114833"
      ]
     },
     "execution_count": 10,
     "metadata": {},
     "output_type": "execute_result"
    }
   ],
   "source": [
    "df['contain_date'].isna().sum()"
   ]
  },
  {
   "cell_type": "code",
   "execution_count": 11,
   "id": "2a8a64f6",
   "metadata": {},
   "outputs": [
    {
     "data": {
      "text/plain": [
       "263"
      ]
     },
     "execution_count": 11,
     "metadata": {},
     "output_type": "execute_result"
    }
   ],
   "source": [
    "df[df['acres_burned'] > 10000]['contain_date'].isna().sum()"
   ]
  },
  {
   "cell_type": "code",
   "execution_count": 12,
   "id": "1edc09f3",
   "metadata": {},
   "outputs": [
    {
     "data": {
      "text/html": [
       "<div>\n",
       "<style scoped>\n",
       "    .dataframe tbody tr th:only-of-type {\n",
       "        vertical-align: middle;\n",
       "    }\n",
       "\n",
       "    .dataframe tbody tr th {\n",
       "        vertical-align: top;\n",
       "    }\n",
       "\n",
       "    .dataframe thead th {\n",
       "        text-align: right;\n",
       "    }\n",
       "</style>\n",
       "<table border=\"1\" class=\"dataframe\">\n",
       "  <thead>\n",
       "    <tr style=\"text-align: right;\">\n",
       "      <th></th>\n",
       "      <th>fire_name</th>\n",
       "      <th>acres_burned</th>\n",
       "      <th>state</th>\n",
       "      <th>latitude</th>\n",
       "      <th>longitude</th>\n",
       "      <th>fire_year</th>\n",
       "      <th>discovery_date</th>\n",
       "      <th>contain_date</th>\n",
       "    </tr>\n",
       "  </thead>\n",
       "  <tbody>\n",
       "    <tr>\n",
       "      <th>5095</th>\n",
       "      <td>Peppin</td>\n",
       "      <td>64488.0</td>\n",
       "      <td>NM</td>\n",
       "      <td>33.601389</td>\n",
       "      <td>-105.433333</td>\n",
       "      <td>2004</td>\n",
       "      <td>2004-05-15</td>\n",
       "      <td>NaT</td>\n",
       "    </tr>\n",
       "    <tr>\n",
       "      <th>26127</th>\n",
       "      <td>Butler 2</td>\n",
       "      <td>14039.0</td>\n",
       "      <td>CA</td>\n",
       "      <td>34.258056</td>\n",
       "      <td>-117.010278</td>\n",
       "      <td>2007</td>\n",
       "      <td>2007-09-14</td>\n",
       "      <td>NaT</td>\n",
       "    </tr>\n",
       "    <tr>\n",
       "      <th>32272</th>\n",
       "      <td>Chalk</td>\n",
       "      <td>11200.0</td>\n",
       "      <td>CA</td>\n",
       "      <td>36.002500</td>\n",
       "      <td>-121.439722</td>\n",
       "      <td>2008</td>\n",
       "      <td>2008-09-27</td>\n",
       "      <td>NaT</td>\n",
       "    </tr>\n",
       "    <tr>\n",
       "      <th>33100</th>\n",
       "      <td>South barker</td>\n",
       "      <td>37725.0</td>\n",
       "      <td>ID</td>\n",
       "      <td>43.625278</td>\n",
       "      <td>-115.228889</td>\n",
       "      <td>2008</td>\n",
       "      <td>2008-08-07</td>\n",
       "      <td>NaT</td>\n",
       "    </tr>\n",
       "    <tr>\n",
       "      <th>239801</th>\n",
       "      <td>Anaconda</td>\n",
       "      <td>10812.0</td>\n",
       "      <td>MT</td>\n",
       "      <td>48.645160</td>\n",
       "      <td>-114.128000</td>\n",
       "      <td>1999</td>\n",
       "      <td>1999-08-06</td>\n",
       "      <td>NaT</td>\n",
       "    </tr>\n",
       "    <tr>\n",
       "      <th>...</th>\n",
       "      <td>...</td>\n",
       "      <td>...</td>\n",
       "      <td>...</td>\n",
       "      <td>...</td>\n",
       "      <td>...</td>\n",
       "      <td>...</td>\n",
       "      <td>...</td>\n",
       "      <td>...</td>\n",
       "    </tr>\n",
       "    <tr>\n",
       "      <th>1860048</th>\n",
       "      <td>Guttersen ranch</td>\n",
       "      <td>11699.0</td>\n",
       "      <td>CO</td>\n",
       "      <td>40.394700</td>\n",
       "      <td>-104.564600</td>\n",
       "      <td>2015</td>\n",
       "      <td>2015-09-18</td>\n",
       "      <td>NaT</td>\n",
       "    </tr>\n",
       "    <tr>\n",
       "      <th>1868221</th>\n",
       "      <td>NaN</td>\n",
       "      <td>12453.0</td>\n",
       "      <td>HI</td>\n",
       "      <td>21.095810</td>\n",
       "      <td>-157.007416</td>\n",
       "      <td>1998</td>\n",
       "      <td>1998-08-23</td>\n",
       "      <td>NaT</td>\n",
       "    </tr>\n",
       "    <tr>\n",
       "      <th>1869553</th>\n",
       "      <td>NaN</td>\n",
       "      <td>25000.0</td>\n",
       "      <td>HI</td>\n",
       "      <td>20.000641</td>\n",
       "      <td>-155.691620</td>\n",
       "      <td>2005</td>\n",
       "      <td>2005-08-01</td>\n",
       "      <td>NaT</td>\n",
       "    </tr>\n",
       "    <tr>\n",
       "      <th>1877519</th>\n",
       "      <td>Valley</td>\n",
       "      <td>76067.0</td>\n",
       "      <td>CA</td>\n",
       "      <td>38.843988</td>\n",
       "      <td>-122.759707</td>\n",
       "      <td>2015</td>\n",
       "      <td>2015-09-12</td>\n",
       "      <td>NaT</td>\n",
       "    </tr>\n",
       "    <tr>\n",
       "      <th>1878523</th>\n",
       "      <td>Humboldt</td>\n",
       "      <td>23344.0</td>\n",
       "      <td>CA</td>\n",
       "      <td>39.762464</td>\n",
       "      <td>-121.736696</td>\n",
       "      <td>2008</td>\n",
       "      <td>2008-06-11</td>\n",
       "      <td>NaT</td>\n",
       "    </tr>\n",
       "  </tbody>\n",
       "</table>\n",
       "<p>263 rows × 8 columns</p>\n",
       "</div>"
      ],
      "text/plain": [
       "               fire_name  acres_burned state   latitude   longitude   \n",
       "5095              Peppin       64488.0    NM  33.601389 -105.433333  \\\n",
       "26127           Butler 2       14039.0    CA  34.258056 -117.010278   \n",
       "32272              Chalk       11200.0    CA  36.002500 -121.439722   \n",
       "33100       South barker       37725.0    ID  43.625278 -115.228889   \n",
       "239801          Anaconda       10812.0    MT  48.645160 -114.128000   \n",
       "...                  ...           ...   ...        ...         ...   \n",
       "1860048  Guttersen ranch       11699.0    CO  40.394700 -104.564600   \n",
       "1868221              NaN       12453.0    HI  21.095810 -157.007416   \n",
       "1869553              NaN       25000.0    HI  20.000641 -155.691620   \n",
       "1877519           Valley       76067.0    CA  38.843988 -122.759707   \n",
       "1878523         Humboldt       23344.0    CA  39.762464 -121.736696   \n",
       "\n",
       "         fire_year discovery_date contain_date  \n",
       "5095          2004     2004-05-15          NaT  \n",
       "26127         2007     2007-09-14          NaT  \n",
       "32272         2008     2008-09-27          NaT  \n",
       "33100         2008     2008-08-07          NaT  \n",
       "239801        1999     1999-08-06          NaT  \n",
       "...            ...            ...          ...  \n",
       "1860048       2015     2015-09-18          NaT  \n",
       "1868221       1998     1998-08-23          NaT  \n",
       "1869553       2005     2005-08-01          NaT  \n",
       "1877519       2015     2015-09-12          NaT  \n",
       "1878523       2008     2008-06-11          NaT  \n",
       "\n",
       "[263 rows x 8 columns]"
      ]
     },
     "execution_count": 12,
     "metadata": {},
     "output_type": "execute_result"
    }
   ],
   "source": [
    "df[(df['acres_burned'] > 10000) & (df['contain_date'].isna())]"
   ]
  },
  {
   "cell_type": "markdown",
   "id": "b8434343",
   "metadata": {},
   "source": [
    "#### (II) Prepare the data:"
   ]
  },
  {
   "cell_type": "markdown",
   "id": "51992f5e",
   "metadata": {},
   "source": [
    "Q9. Add the `fire_month` and `days_burning` columns"
   ]
  },
  {
   "cell_type": "code",
   "execution_count": 13,
   "id": "9865ec0f",
   "metadata": {},
   "outputs": [
    {
     "data": {
      "text/html": [
       "<div>\n",
       "<style scoped>\n",
       "    .dataframe tbody tr th:only-of-type {\n",
       "        vertical-align: middle;\n",
       "    }\n",
       "\n",
       "    .dataframe tbody tr th {\n",
       "        vertical-align: top;\n",
       "    }\n",
       "\n",
       "    .dataframe thead th {\n",
       "        text-align: right;\n",
       "    }\n",
       "</style>\n",
       "<table border=\"1\" class=\"dataframe\">\n",
       "  <thead>\n",
       "    <tr style=\"text-align: right;\">\n",
       "      <th></th>\n",
       "      <th>fire_name</th>\n",
       "      <th>acres_burned</th>\n",
       "      <th>state</th>\n",
       "      <th>latitude</th>\n",
       "      <th>longitude</th>\n",
       "      <th>fire_year</th>\n",
       "      <th>discovery_date</th>\n",
       "      <th>contain_date</th>\n",
       "      <th>fire_month</th>\n",
       "    </tr>\n",
       "  </thead>\n",
       "  <tbody>\n",
       "    <tr>\n",
       "      <th>16</th>\n",
       "      <td>Power</td>\n",
       "      <td>16823.0</td>\n",
       "      <td>CA</td>\n",
       "      <td>38.523333</td>\n",
       "      <td>-120.211667</td>\n",
       "      <td>2004</td>\n",
       "      <td>2004-10-06</td>\n",
       "      <td>2004-10-21</td>\n",
       "      <td>10</td>\n",
       "    </tr>\n",
       "    <tr>\n",
       "      <th>17</th>\n",
       "      <td>Freds</td>\n",
       "      <td>7700.0</td>\n",
       "      <td>CA</td>\n",
       "      <td>38.780000</td>\n",
       "      <td>-120.260000</td>\n",
       "      <td>2004</td>\n",
       "      <td>2004-10-13</td>\n",
       "      <td>2004-10-17</td>\n",
       "      <td>10</td>\n",
       "    </tr>\n",
       "    <tr>\n",
       "      <th>37</th>\n",
       "      <td>Howard gap</td>\n",
       "      <td>50.3</td>\n",
       "      <td>NC</td>\n",
       "      <td>35.000278</td>\n",
       "      <td>-83.351111</td>\n",
       "      <td>2005</td>\n",
       "      <td>2005-01-27</td>\n",
       "      <td>2005-01-28</td>\n",
       "      <td>1</td>\n",
       "    </tr>\n",
       "    <tr>\n",
       "      <th>39</th>\n",
       "      <td>Austin creek</td>\n",
       "      <td>125.0</td>\n",
       "      <td>NC</td>\n",
       "      <td>36.001667</td>\n",
       "      <td>-81.590000</td>\n",
       "      <td>2005</td>\n",
       "      <td>2005-02-12</td>\n",
       "      <td>2005-02-13</td>\n",
       "      <td>2</td>\n",
       "    </tr>\n",
       "    <tr>\n",
       "      <th>40</th>\n",
       "      <td>Headquarters</td>\n",
       "      <td>25.0</td>\n",
       "      <td>NC</td>\n",
       "      <td>35.985000</td>\n",
       "      <td>-81.851667</td>\n",
       "      <td>2005</td>\n",
       "      <td>2005-04-16</td>\n",
       "      <td>2005-04-16</td>\n",
       "      <td>4</td>\n",
       "    </tr>\n",
       "    <tr>\n",
       "      <th>...</th>\n",
       "      <td>...</td>\n",
       "      <td>...</td>\n",
       "      <td>...</td>\n",
       "      <td>...</td>\n",
       "      <td>...</td>\n",
       "      <td>...</td>\n",
       "      <td>...</td>\n",
       "      <td>...</td>\n",
       "      <td>...</td>\n",
       "    </tr>\n",
       "    <tr>\n",
       "      <th>1880387</th>\n",
       "      <td>Soda</td>\n",
       "      <td>24.0</td>\n",
       "      <td>CA</td>\n",
       "      <td>39.045908</td>\n",
       "      <td>-123.265522</td>\n",
       "      <td>2015</td>\n",
       "      <td>2015-07-04</td>\n",
       "      <td>2015-07-04</td>\n",
       "      <td>7</td>\n",
       "    </tr>\n",
       "    <tr>\n",
       "      <th>1880399</th>\n",
       "      <td>Gilman</td>\n",
       "      <td>73.0</td>\n",
       "      <td>CA</td>\n",
       "      <td>33.892120</td>\n",
       "      <td>-117.079065</td>\n",
       "      <td>2009</td>\n",
       "      <td>2009-05-03</td>\n",
       "      <td>2009-05-03</td>\n",
       "      <td>5</td>\n",
       "    </tr>\n",
       "    <tr>\n",
       "      <th>1880411</th>\n",
       "      <td>Terra</td>\n",
       "      <td>23.0</td>\n",
       "      <td>CA</td>\n",
       "      <td>35.985512</td>\n",
       "      <td>-118.915364</td>\n",
       "      <td>2009</td>\n",
       "      <td>2009-06-19</td>\n",
       "      <td>2009-06-19</td>\n",
       "      <td>6</td>\n",
       "    </tr>\n",
       "    <tr>\n",
       "      <th>1880419</th>\n",
       "      <td>Slaughterhouse</td>\n",
       "      <td>50.0</td>\n",
       "      <td>CA</td>\n",
       "      <td>32.906591</td>\n",
       "      <td>-116.942448</td>\n",
       "      <td>2010</td>\n",
       "      <td>2010-05-29</td>\n",
       "      <td>NaT</td>\n",
       "      <td>5</td>\n",
       "    </tr>\n",
       "    <tr>\n",
       "      <th>1880441</th>\n",
       "      <td>NaN</td>\n",
       "      <td>11.0</td>\n",
       "      <td>CA</td>\n",
       "      <td>34.450000</td>\n",
       "      <td>-118.583333</td>\n",
       "      <td>2015</td>\n",
       "      <td>2015-12-07</td>\n",
       "      <td>NaT</td>\n",
       "      <td>12</td>\n",
       "    </tr>\n",
       "  </tbody>\n",
       "</table>\n",
       "<p>238931 rows × 9 columns</p>\n",
       "</div>"
      ],
      "text/plain": [
       "              fire_name  acres_burned state   latitude   longitude  fire_year   \n",
       "16                Power       16823.0    CA  38.523333 -120.211667       2004  \\\n",
       "17                Freds        7700.0    CA  38.780000 -120.260000       2004   \n",
       "37           Howard gap          50.3    NC  35.000278  -83.351111       2005   \n",
       "39         Austin creek         125.0    NC  36.001667  -81.590000       2005   \n",
       "40         Headquarters          25.0    NC  35.985000  -81.851667       2005   \n",
       "...                 ...           ...   ...        ...         ...        ...   \n",
       "1880387            Soda          24.0    CA  39.045908 -123.265522       2015   \n",
       "1880399          Gilman          73.0    CA  33.892120 -117.079065       2009   \n",
       "1880411           Terra          23.0    CA  35.985512 -118.915364       2009   \n",
       "1880419  Slaughterhouse          50.0    CA  32.906591 -116.942448       2010   \n",
       "1880441             NaN          11.0    CA  34.450000 -118.583333       2015   \n",
       "\n",
       "        discovery_date contain_date  fire_month  \n",
       "16          2004-10-06   2004-10-21          10  \n",
       "17          2004-10-13   2004-10-17          10  \n",
       "37          2005-01-27   2005-01-28           1  \n",
       "39          2005-02-12   2005-02-13           2  \n",
       "40          2005-04-16   2005-04-16           4  \n",
       "...                ...          ...         ...  \n",
       "1880387     2015-07-04   2015-07-04           7  \n",
       "1880399     2009-05-03   2009-05-03           5  \n",
       "1880411     2009-06-19   2009-06-19           6  \n",
       "1880419     2010-05-29          NaT           5  \n",
       "1880441     2015-12-07          NaT          12  \n",
       "\n",
       "[238931 rows x 9 columns]"
      ]
     },
     "execution_count": 13,
     "metadata": {},
     "output_type": "execute_result"
    }
   ],
   "source": [
    "df['fire_month'] = pd.to_datetime(df['discovery_date']).dt.month\n",
    "df"
   ]
  },
  {
   "cell_type": "code",
   "execution_count": 14,
   "id": "dd6be1e9",
   "metadata": {},
   "outputs": [
    {
     "data": {
      "text/html": [
       "<div>\n",
       "<style scoped>\n",
       "    .dataframe tbody tr th:only-of-type {\n",
       "        vertical-align: middle;\n",
       "    }\n",
       "\n",
       "    .dataframe tbody tr th {\n",
       "        vertical-align: top;\n",
       "    }\n",
       "\n",
       "    .dataframe thead th {\n",
       "        text-align: right;\n",
       "    }\n",
       "</style>\n",
       "<table border=\"1\" class=\"dataframe\">\n",
       "  <thead>\n",
       "    <tr style=\"text-align: right;\">\n",
       "      <th></th>\n",
       "      <th>fire_name</th>\n",
       "      <th>acres_burned</th>\n",
       "      <th>state</th>\n",
       "      <th>latitude</th>\n",
       "      <th>longitude</th>\n",
       "      <th>fire_year</th>\n",
       "      <th>discovery_date</th>\n",
       "      <th>contain_date</th>\n",
       "      <th>fire_month</th>\n",
       "      <th>days_burning</th>\n",
       "    </tr>\n",
       "  </thead>\n",
       "  <tbody>\n",
       "    <tr>\n",
       "      <th>16</th>\n",
       "      <td>Power</td>\n",
       "      <td>16823.0</td>\n",
       "      <td>CA</td>\n",
       "      <td>38.523333</td>\n",
       "      <td>-120.211667</td>\n",
       "      <td>2004</td>\n",
       "      <td>2004-10-06</td>\n",
       "      <td>2004-10-21</td>\n",
       "      <td>10</td>\n",
       "      <td>15.0</td>\n",
       "    </tr>\n",
       "    <tr>\n",
       "      <th>17</th>\n",
       "      <td>Freds</td>\n",
       "      <td>7700.0</td>\n",
       "      <td>CA</td>\n",
       "      <td>38.780000</td>\n",
       "      <td>-120.260000</td>\n",
       "      <td>2004</td>\n",
       "      <td>2004-10-13</td>\n",
       "      <td>2004-10-17</td>\n",
       "      <td>10</td>\n",
       "      <td>4.0</td>\n",
       "    </tr>\n",
       "    <tr>\n",
       "      <th>37</th>\n",
       "      <td>Howard gap</td>\n",
       "      <td>50.3</td>\n",
       "      <td>NC</td>\n",
       "      <td>35.000278</td>\n",
       "      <td>-83.351111</td>\n",
       "      <td>2005</td>\n",
       "      <td>2005-01-27</td>\n",
       "      <td>2005-01-28</td>\n",
       "      <td>1</td>\n",
       "      <td>1.0</td>\n",
       "    </tr>\n",
       "    <tr>\n",
       "      <th>39</th>\n",
       "      <td>Austin creek</td>\n",
       "      <td>125.0</td>\n",
       "      <td>NC</td>\n",
       "      <td>36.001667</td>\n",
       "      <td>-81.590000</td>\n",
       "      <td>2005</td>\n",
       "      <td>2005-02-12</td>\n",
       "      <td>2005-02-13</td>\n",
       "      <td>2</td>\n",
       "      <td>1.0</td>\n",
       "    </tr>\n",
       "    <tr>\n",
       "      <th>40</th>\n",
       "      <td>Headquarters</td>\n",
       "      <td>25.0</td>\n",
       "      <td>NC</td>\n",
       "      <td>35.985000</td>\n",
       "      <td>-81.851667</td>\n",
       "      <td>2005</td>\n",
       "      <td>2005-04-16</td>\n",
       "      <td>2005-04-16</td>\n",
       "      <td>4</td>\n",
       "      <td>0.0</td>\n",
       "    </tr>\n",
       "    <tr>\n",
       "      <th>...</th>\n",
       "      <td>...</td>\n",
       "      <td>...</td>\n",
       "      <td>...</td>\n",
       "      <td>...</td>\n",
       "      <td>...</td>\n",
       "      <td>...</td>\n",
       "      <td>...</td>\n",
       "      <td>...</td>\n",
       "      <td>...</td>\n",
       "      <td>...</td>\n",
       "    </tr>\n",
       "    <tr>\n",
       "      <th>1880387</th>\n",
       "      <td>Soda</td>\n",
       "      <td>24.0</td>\n",
       "      <td>CA</td>\n",
       "      <td>39.045908</td>\n",
       "      <td>-123.265522</td>\n",
       "      <td>2015</td>\n",
       "      <td>2015-07-04</td>\n",
       "      <td>2015-07-04</td>\n",
       "      <td>7</td>\n",
       "      <td>0.0</td>\n",
       "    </tr>\n",
       "    <tr>\n",
       "      <th>1880399</th>\n",
       "      <td>Gilman</td>\n",
       "      <td>73.0</td>\n",
       "      <td>CA</td>\n",
       "      <td>33.892120</td>\n",
       "      <td>-117.079065</td>\n",
       "      <td>2009</td>\n",
       "      <td>2009-05-03</td>\n",
       "      <td>2009-05-03</td>\n",
       "      <td>5</td>\n",
       "      <td>0.0</td>\n",
       "    </tr>\n",
       "    <tr>\n",
       "      <th>1880411</th>\n",
       "      <td>Terra</td>\n",
       "      <td>23.0</td>\n",
       "      <td>CA</td>\n",
       "      <td>35.985512</td>\n",
       "      <td>-118.915364</td>\n",
       "      <td>2009</td>\n",
       "      <td>2009-06-19</td>\n",
       "      <td>2009-06-19</td>\n",
       "      <td>6</td>\n",
       "      <td>0.0</td>\n",
       "    </tr>\n",
       "    <tr>\n",
       "      <th>1880419</th>\n",
       "      <td>Slaughterhouse</td>\n",
       "      <td>50.0</td>\n",
       "      <td>CA</td>\n",
       "      <td>32.906591</td>\n",
       "      <td>-116.942448</td>\n",
       "      <td>2010</td>\n",
       "      <td>2010-05-29</td>\n",
       "      <td>NaT</td>\n",
       "      <td>5</td>\n",
       "      <td>NaN</td>\n",
       "    </tr>\n",
       "    <tr>\n",
       "      <th>1880441</th>\n",
       "      <td>NaN</td>\n",
       "      <td>11.0</td>\n",
       "      <td>CA</td>\n",
       "      <td>34.450000</td>\n",
       "      <td>-118.583333</td>\n",
       "      <td>2015</td>\n",
       "      <td>2015-12-07</td>\n",
       "      <td>NaT</td>\n",
       "      <td>12</td>\n",
       "      <td>NaN</td>\n",
       "    </tr>\n",
       "  </tbody>\n",
       "</table>\n",
       "<p>238931 rows × 10 columns</p>\n",
       "</div>"
      ],
      "text/plain": [
       "              fire_name  acres_burned state   latitude   longitude  fire_year   \n",
       "16                Power       16823.0    CA  38.523333 -120.211667       2004  \\\n",
       "17                Freds        7700.0    CA  38.780000 -120.260000       2004   \n",
       "37           Howard gap          50.3    NC  35.000278  -83.351111       2005   \n",
       "39         Austin creek         125.0    NC  36.001667  -81.590000       2005   \n",
       "40         Headquarters          25.0    NC  35.985000  -81.851667       2005   \n",
       "...                 ...           ...   ...        ...         ...        ...   \n",
       "1880387            Soda          24.0    CA  39.045908 -123.265522       2015   \n",
       "1880399          Gilman          73.0    CA  33.892120 -117.079065       2009   \n",
       "1880411           Terra          23.0    CA  35.985512 -118.915364       2009   \n",
       "1880419  Slaughterhouse          50.0    CA  32.906591 -116.942448       2010   \n",
       "1880441             NaN          11.0    CA  34.450000 -118.583333       2015   \n",
       "\n",
       "        discovery_date contain_date  fire_month  days_burning  \n",
       "16          2004-10-06   2004-10-21          10          15.0  \n",
       "17          2004-10-13   2004-10-17          10           4.0  \n",
       "37          2005-01-27   2005-01-28           1           1.0  \n",
       "39          2005-02-12   2005-02-13           2           1.0  \n",
       "40          2005-04-16   2005-04-16           4           0.0  \n",
       "...                ...          ...         ...           ...  \n",
       "1880387     2015-07-04   2015-07-04           7           0.0  \n",
       "1880399     2009-05-03   2009-05-03           5           0.0  \n",
       "1880411     2009-06-19   2009-06-19           6           0.0  \n",
       "1880419     2010-05-29          NaT           5           NaN  \n",
       "1880441     2015-12-07          NaT          12           NaN  \n",
       "\n",
       "[238931 rows x 10 columns]"
      ]
     },
     "execution_count": 14,
     "metadata": {},
     "output_type": "execute_result"
    }
   ],
   "source": [
    "df['days_burning'] = ((df['contain_date']) - (df['discovery_date'])).dt.days\n",
    "df"
   ]
  },
  {
   "cell_type": "markdown",
   "id": "56709008",
   "metadata": {},
   "source": [
    "\n",
    "Q10. Get the statistical summary of the `days_burning` column. What trends do you see in the 3rd quartile, mean and Max length of the fires? Is or isn't anything fishy?\n"
   ]
  },
  {
   "cell_type": "code",
   "execution_count": 15,
   "id": "e4687ee4",
   "metadata": {},
   "outputs": [
    {
     "data": {
      "text/html": [
       "<div>\n",
       "<style scoped>\n",
       "    .dataframe tbody tr th:only-of-type {\n",
       "        vertical-align: middle;\n",
       "    }\n",
       "\n",
       "    .dataframe tbody tr th {\n",
       "        vertical-align: top;\n",
       "    }\n",
       "\n",
       "    .dataframe thead th {\n",
       "        text-align: right;\n",
       "    }\n",
       "</style>\n",
       "<table border=\"1\" class=\"dataframe\">\n",
       "  <thead>\n",
       "    <tr style=\"text-align: right;\">\n",
       "      <th></th>\n",
       "      <th>days_burning</th>\n",
       "    </tr>\n",
       "  </thead>\n",
       "  <tbody>\n",
       "    <tr>\n",
       "      <th>count</th>\n",
       "      <td>124098.000000</td>\n",
       "    </tr>\n",
       "    <tr>\n",
       "      <th>mean</th>\n",
       "      <td>3.518945</td>\n",
       "    </tr>\n",
       "    <tr>\n",
       "      <th>std</th>\n",
       "      <td>16.475725</td>\n",
       "    </tr>\n",
       "    <tr>\n",
       "      <th>min</th>\n",
       "      <td>0.000000</td>\n",
       "    </tr>\n",
       "    <tr>\n",
       "      <th>25%</th>\n",
       "      <td>0.000000</td>\n",
       "    </tr>\n",
       "    <tr>\n",
       "      <th>50%</th>\n",
       "      <td>0.000000</td>\n",
       "    </tr>\n",
       "    <tr>\n",
       "      <th>75%</th>\n",
       "      <td>1.000000</td>\n",
       "    </tr>\n",
       "    <tr>\n",
       "      <th>max</th>\n",
       "      <td>1881.000000</td>\n",
       "    </tr>\n",
       "  </tbody>\n",
       "</table>\n",
       "</div>"
      ],
      "text/plain": [
       "        days_burning\n",
       "count  124098.000000\n",
       "mean        3.518945\n",
       "std        16.475725\n",
       "min         0.000000\n",
       "25%         0.000000\n",
       "50%         0.000000\n",
       "75%         1.000000\n",
       "max      1881.000000"
      ]
     },
     "execution_count": 15,
     "metadata": {},
     "output_type": "execute_result"
    }
   ],
   "source": [
    "df[['days_burning']].describe()"
   ]
  },
  {
   "cell_type": "markdown",
   "id": "61432032",
   "metadata": {},
   "source": [
    "\n",
    "Q11. Check the value of `days_burning` for fires that exceed 100 acres. What do you notice about the acreage and the `days_burning` for certain outliers?\n"
   ]
  },
  {
   "cell_type": "code",
   "execution_count": 16,
   "id": "c4d09324",
   "metadata": {},
   "outputs": [
    {
     "data": {
      "text/html": [
       "<div>\n",
       "<style scoped>\n",
       "    .dataframe tbody tr th:only-of-type {\n",
       "        vertical-align: middle;\n",
       "    }\n",
       "\n",
       "    .dataframe tbody tr th {\n",
       "        vertical-align: top;\n",
       "    }\n",
       "\n",
       "    .dataframe thead th {\n",
       "        text-align: right;\n",
       "    }\n",
       "</style>\n",
       "<table border=\"1\" class=\"dataframe\">\n",
       "  <thead>\n",
       "    <tr style=\"text-align: right;\">\n",
       "      <th></th>\n",
       "      <th>acres_burned</th>\n",
       "      <th>days_burning</th>\n",
       "    </tr>\n",
       "  </thead>\n",
       "  <tbody>\n",
       "    <tr>\n",
       "      <th>16</th>\n",
       "      <td>16823.00</td>\n",
       "      <td>15.0</td>\n",
       "    </tr>\n",
       "    <tr>\n",
       "      <th>17</th>\n",
       "      <td>7700.00</td>\n",
       "      <td>4.0</td>\n",
       "    </tr>\n",
       "    <tr>\n",
       "      <th>39</th>\n",
       "      <td>125.00</td>\n",
       "      <td>1.0</td>\n",
       "    </tr>\n",
       "    <tr>\n",
       "      <th>116</th>\n",
       "      <td>119.00</td>\n",
       "      <td>1.0</td>\n",
       "    </tr>\n",
       "    <tr>\n",
       "      <th>117</th>\n",
       "      <td>119.00</td>\n",
       "      <td>0.0</td>\n",
       "    </tr>\n",
       "    <tr>\n",
       "      <th>188</th>\n",
       "      <td>16100.00</td>\n",
       "      <td>8.0</td>\n",
       "    </tr>\n",
       "    <tr>\n",
       "      <th>548</th>\n",
       "      <td>1149.00</td>\n",
       "      <td>1.0</td>\n",
       "    </tr>\n",
       "    <tr>\n",
       "      <th>582</th>\n",
       "      <td>1300.00</td>\n",
       "      <td>4.0</td>\n",
       "    </tr>\n",
       "    <tr>\n",
       "      <th>588</th>\n",
       "      <td>730.00</td>\n",
       "      <td>8.0</td>\n",
       "    </tr>\n",
       "    <tr>\n",
       "      <th>589</th>\n",
       "      <td>495.00</td>\n",
       "      <td>4.0</td>\n",
       "    </tr>\n",
       "    <tr>\n",
       "      <th>591</th>\n",
       "      <td>2093.00</td>\n",
       "      <td>6.0</td>\n",
       "    </tr>\n",
       "    <tr>\n",
       "      <th>732</th>\n",
       "      <td>512.00</td>\n",
       "      <td>24.0</td>\n",
       "    </tr>\n",
       "    <tr>\n",
       "      <th>735</th>\n",
       "      <td>236.00</td>\n",
       "      <td>26.0</td>\n",
       "    </tr>\n",
       "    <tr>\n",
       "      <th>736</th>\n",
       "      <td>390.00</td>\n",
       "      <td>2.0</td>\n",
       "    </tr>\n",
       "    <tr>\n",
       "      <th>744</th>\n",
       "      <td>1199.00</td>\n",
       "      <td>4.0</td>\n",
       "    </tr>\n",
       "    <tr>\n",
       "      <th>771</th>\n",
       "      <td>800.00</td>\n",
       "      <td>15.0</td>\n",
       "    </tr>\n",
       "    <tr>\n",
       "      <th>864</th>\n",
       "      <td>162.00</td>\n",
       "      <td>1.0</td>\n",
       "    </tr>\n",
       "    <tr>\n",
       "      <th>898</th>\n",
       "      <td>205.00</td>\n",
       "      <td>0.0</td>\n",
       "    </tr>\n",
       "    <tr>\n",
       "      <th>1016</th>\n",
       "      <td>423.30</td>\n",
       "      <td>4.0</td>\n",
       "    </tr>\n",
       "    <tr>\n",
       "      <th>1066</th>\n",
       "      <td>270.00</td>\n",
       "      <td>0.0</td>\n",
       "    </tr>\n",
       "    <tr>\n",
       "      <th>1112</th>\n",
       "      <td>170.00</td>\n",
       "      <td>3.0</td>\n",
       "    </tr>\n",
       "    <tr>\n",
       "      <th>1143</th>\n",
       "      <td>760.00</td>\n",
       "      <td>1.0</td>\n",
       "    </tr>\n",
       "    <tr>\n",
       "      <th>1231</th>\n",
       "      <td>320.00</td>\n",
       "      <td>12.0</td>\n",
       "    </tr>\n",
       "    <tr>\n",
       "      <th>1273</th>\n",
       "      <td>101.00</td>\n",
       "      <td>0.0</td>\n",
       "    </tr>\n",
       "    <tr>\n",
       "      <th>1285</th>\n",
       "      <td>780.00</td>\n",
       "      <td>1.0</td>\n",
       "    </tr>\n",
       "    <tr>\n",
       "      <th>1286</th>\n",
       "      <td>180.00</td>\n",
       "      <td>2.0</td>\n",
       "    </tr>\n",
       "    <tr>\n",
       "      <th>1319</th>\n",
       "      <td>180.00</td>\n",
       "      <td>1.0</td>\n",
       "    </tr>\n",
       "    <tr>\n",
       "      <th>1340</th>\n",
       "      <td>411.00</td>\n",
       "      <td>1.0</td>\n",
       "    </tr>\n",
       "    <tr>\n",
       "      <th>1473</th>\n",
       "      <td>228.00</td>\n",
       "      <td>0.0</td>\n",
       "    </tr>\n",
       "    <tr>\n",
       "      <th>1499</th>\n",
       "      <td>124.00</td>\n",
       "      <td>2.0</td>\n",
       "    </tr>\n",
       "    <tr>\n",
       "      <th>1505</th>\n",
       "      <td>11936.00</td>\n",
       "      <td>92.0</td>\n",
       "    </tr>\n",
       "    <tr>\n",
       "      <th>1511</th>\n",
       "      <td>400.00</td>\n",
       "      <td>2.0</td>\n",
       "    </tr>\n",
       "    <tr>\n",
       "      <th>1525</th>\n",
       "      <td>245.00</td>\n",
       "      <td>1.0</td>\n",
       "    </tr>\n",
       "    <tr>\n",
       "      <th>1561</th>\n",
       "      <td>317.00</td>\n",
       "      <td>6.0</td>\n",
       "    </tr>\n",
       "    <tr>\n",
       "      <th>1574</th>\n",
       "      <td>146.09</td>\n",
       "      <td>1.0</td>\n",
       "    </tr>\n",
       "    <tr>\n",
       "      <th>1578</th>\n",
       "      <td>387.29</td>\n",
       "      <td>1.0</td>\n",
       "    </tr>\n",
       "    <tr>\n",
       "      <th>1580</th>\n",
       "      <td>156.10</td>\n",
       "      <td>0.0</td>\n",
       "    </tr>\n",
       "    <tr>\n",
       "      <th>1586</th>\n",
       "      <td>2700.00</td>\n",
       "      <td>10.0</td>\n",
       "    </tr>\n",
       "    <tr>\n",
       "      <th>1588</th>\n",
       "      <td>11357.00</td>\n",
       "      <td>9.0</td>\n",
       "    </tr>\n",
       "    <tr>\n",
       "      <th>1686</th>\n",
       "      <td>121.00</td>\n",
       "      <td>0.0</td>\n",
       "    </tr>\n",
       "    <tr>\n",
       "      <th>1691</th>\n",
       "      <td>206.00</td>\n",
       "      <td>1.0</td>\n",
       "    </tr>\n",
       "    <tr>\n",
       "      <th>1694</th>\n",
       "      <td>820.00</td>\n",
       "      <td>4.0</td>\n",
       "    </tr>\n",
       "    <tr>\n",
       "      <th>1703</th>\n",
       "      <td>595.00</td>\n",
       "      <td>1.0</td>\n",
       "    </tr>\n",
       "    <tr>\n",
       "      <th>1728</th>\n",
       "      <td>190.00</td>\n",
       "      <td>0.0</td>\n",
       "    </tr>\n",
       "    <tr>\n",
       "      <th>1734</th>\n",
       "      <td>185.00</td>\n",
       "      <td>7.0</td>\n",
       "    </tr>\n",
       "    <tr>\n",
       "      <th>1750</th>\n",
       "      <td>101.87</td>\n",
       "      <td>1.0</td>\n",
       "    </tr>\n",
       "    <tr>\n",
       "      <th>1779</th>\n",
       "      <td>592.00</td>\n",
       "      <td>0.0</td>\n",
       "    </tr>\n",
       "    <tr>\n",
       "      <th>1804</th>\n",
       "      <td>1977.00</td>\n",
       "      <td>28.0</td>\n",
       "    </tr>\n",
       "    <tr>\n",
       "      <th>1871</th>\n",
       "      <td>135.00</td>\n",
       "      <td>24.0</td>\n",
       "    </tr>\n",
       "    <tr>\n",
       "      <th>1891</th>\n",
       "      <td>775.00</td>\n",
       "      <td>5.0</td>\n",
       "    </tr>\n",
       "  </tbody>\n",
       "</table>\n",
       "</div>"
      ],
      "text/plain": [
       "      acres_burned  days_burning\n",
       "16        16823.00          15.0\n",
       "17         7700.00           4.0\n",
       "39          125.00           1.0\n",
       "116         119.00           1.0\n",
       "117         119.00           0.0\n",
       "188       16100.00           8.0\n",
       "548        1149.00           1.0\n",
       "582        1300.00           4.0\n",
       "588         730.00           8.0\n",
       "589         495.00           4.0\n",
       "591        2093.00           6.0\n",
       "732         512.00          24.0\n",
       "735         236.00          26.0\n",
       "736         390.00           2.0\n",
       "744        1199.00           4.0\n",
       "771         800.00          15.0\n",
       "864         162.00           1.0\n",
       "898         205.00           0.0\n",
       "1016        423.30           4.0\n",
       "1066        270.00           0.0\n",
       "1112        170.00           3.0\n",
       "1143        760.00           1.0\n",
       "1231        320.00          12.0\n",
       "1273        101.00           0.0\n",
       "1285        780.00           1.0\n",
       "1286        180.00           2.0\n",
       "1319        180.00           1.0\n",
       "1340        411.00           1.0\n",
       "1473        228.00           0.0\n",
       "1499        124.00           2.0\n",
       "1505      11936.00          92.0\n",
       "1511        400.00           2.0\n",
       "1525        245.00           1.0\n",
       "1561        317.00           6.0\n",
       "1574        146.09           1.0\n",
       "1578        387.29           1.0\n",
       "1580        156.10           0.0\n",
       "1586       2700.00          10.0\n",
       "1588      11357.00           9.0\n",
       "1686        121.00           0.0\n",
       "1691        206.00           1.0\n",
       "1694        820.00           4.0\n",
       "1703        595.00           1.0\n",
       "1728        190.00           0.0\n",
       "1734        185.00           7.0\n",
       "1750        101.87           1.0\n",
       "1779        592.00           0.0\n",
       "1804       1977.00          28.0\n",
       "1871        135.00          24.0\n",
       "1891        775.00           5.0"
      ]
     },
     "execution_count": 16,
     "metadata": {},
     "output_type": "execute_result"
    }
   ],
   "source": [
    "df[df['acres_burned'] > 100][['acres_burned', 'days_burning']].head(50)"
   ]
  },
  {
   "cell_type": "code",
   "execution_count": 17,
   "id": "104b0aea",
   "metadata": {},
   "outputs": [
    {
     "data": {
      "text/plain": [
       "count    32218.000000\n",
       "mean         9.753088\n",
       "std         26.197698\n",
       "min          0.000000\n",
       "25%          0.000000\n",
       "50%          1.000000\n",
       "75%          6.000000\n",
       "max       1881.000000\n",
       "Name: days_burning, dtype: float64"
      ]
     },
     "execution_count": 17,
     "metadata": {},
     "output_type": "execute_result"
    }
   ],
   "source": [
    "df[df['acres_burned'] > 100]['days_burning'].describe()"
   ]
  },
  {
   "cell_type": "markdown",
   "id": "febd00db",
   "metadata": {},
   "source": [
    "#### (III) Biz Q's:"
   ]
  },
  {
   "cell_type": "markdown",
   "id": "74e9338b",
   "metadata": {},
   "source": [
    "For California:\n",
    "\n",
    "BQ1. Plot the maximum fire size, per year."
   ]
  },
  {
   "cell_type": "code",
   "execution_count": 37,
   "id": "1c24e03a",
   "metadata": {},
   "outputs": [
    {
     "data": {
      "image/png": "[encoded data removed]",
      "text/plain": [
       "<Figure size 640x480 with 1 Axes>"
      ]
     },
     "metadata": {},
     "output_type": "display_data"
    }
   ],
   "source": [
    "df_fyab = df[['acres_burned', 'fire_year']].groupby('fire_year').max()\n",
    "plt.bar(df_fyab['acres_burned'].index, df_fyab['acres_burned'].values)\n",
    "plt.show()"
   ]
  },
  {
   "cell_type": "markdown",
   "id": "4da48c57",
   "metadata": {},
   "source": [
    "For California:\n",
    "    \n",
    "BQ2. Plot the mean and median fire size, per year."
   ]
  },
  {
   "cell_type": "code",
   "execution_count": 42,
   "id": "3d1ae612",
   "metadata": {},
   "outputs": [
    {
     "data": {
      "image/png": "[encoded data removed]",
      "text/plain": [
       "<Figure size 640x480 with 1 Axes>"
      ]
     },
     "metadata": {},
     "output_type": "display_data"
    }
   ],
   "source": [
    "df_fyab_mean = df[['acres_burned', 'fire_year']].groupby('fire_year').mean()\n",
    "df_fyab_median = df[['acres_burned', 'fire_year']].groupby('fire_year').median()\n",
    "plt.bar(df_fyab_mean.index, df_fyab_mean['acres_burned'].values)\n",
    "plt.bar(df_fyab_median.index, df_fyab_median['acres_burned'].values)\n",
    "plt.show()"
   ]
  },
  {
   "cell_type": "code",
   "execution_count": 66,
   "id": "e2426a6d",
   "metadata": {},
   "outputs": [
    {
     "data": {
      "image/png": "[encoded data removed]",
      "text/plain": [
       "<Figure size 2000x1000 with 1 Axes>"
      ]
     },
     "metadata": {},
     "output_type": "display_data"
    }
   ],
   "source": [
    "plt.figure(figsize=(20, 10))\n",
    "df_fyab_mean = df[['acres_burned', 'fire_year']].groupby('fire_year').mean()\n",
    "df_fyab_median = df[['acres_burned', 'fire_year']].groupby('fire_year').median()\n",
    "\n",
    "years = df_fyab_mean.index\n",
    "mean_values = df_fyab_mean.values.flatten()\n",
    "median_values = df_fyab_median.values.flatten()\n",
    "\n",
    "bar_width = 0.35\n",
    "\n",
    "bar_positions = np.arange(len(years))\n",
    "\n",
    "plt.bar(bar_positions, mean_values, width=bar_width, label = 'Mean Fire Size')\n",
    "plt.bar(bar_positions, median_values, width=bar_width, label = 'Median Fire Size')\n",
    "\n",
    "plt.xticks(bar_positions + bar_width/12, years)\n",
    "\n",
    "plt.xlabel('Year')\n",
    "plt.ylabel('Fire Size(acres)')\n",
    "plt.title('Mean and Median Fire Size per Year.')\n",
    "plt.legend()\n",
    "plt.show()"
   ]
  },
  {
   "cell_type": "code",
   "execution_count": 70,
   "id": "dd2b71fd",
   "metadata": {},
   "outputs": [
    {
     "data": {
      "application/vnd.plotly.v1+json": {
       "config": {
        "plotlyServerURL": "https://plot.ly"
       },
       "data": [
        {
         "alignmentgroup": "True",
         "hovertemplate": "Years=%{x}<br>Mean Fire Size(acres)=%{y}<extra></extra>",
         "legendgroup": "",
         "marker": {
          "color": "#636efa",
          "pattern": {
           "shape": ""
          }
         },
         "name": "",
         "offsetgroup": "",
         "orientation": "v",
         "showlegend": false,
         "textposition": "auto",
         "type": "bar",
         "x": [
          1992,
          1993,
          1994,
          1995,
          1996,
          1997,
          1998,
          1999,
          2000,
          2001,
          2002,
          2003,
          2004,
          2005,
          2006,
          2007,
          2008,
          2009,
          2010,
          2011,
          2012,
          2013,
          2014,
          2015
         ],
         "xaxis": "x",
         "y": [
          258.7875334068898,
          270.61990490876383,
          409.46623815829685,
          211.2109769305751,
          534.8238000725031,
          471.0540060195636,
          236.55504940834982,
          494.81811350503455,
          568.8455487416617,
          373.85991197183097,
          781.3975845185358,
          616.581092791381,
          1020.3168553017025,
          788.4804840538753,
          555.0080795681716,
          776.8613330062861,
          450.4327478027211,
          583.7435257533307,
          337.1856558680314,
          705.3235871743486,
          993.9383138546536,
          692.5458155339805,
          461.5053775033385,
          1149.5403277758876
         ],
         "yaxis": "y"
        }
       ],
       "layout": {
        "barmode": "relative",
        "legend": {
         "tracegroupgap": 0
        },
        "template": {
         "data": {
          "bar": [
           {
            "error_x": {
             "color": "#2a3f5f"
            },
            "error_y": {
             "color": "#2a3f5f"
            },
            "marker": {
             "line": {
              "color": "#E5ECF6",
              "width": 0.5
             },
             "pattern": {
              "fillmode": "overlay",
              "size": 10,
              "solidity": 0.2
             }
            },
            "type": "bar"
           }
          ],
          "barpolar": [
           {
            "marker": {
             "line": {
              "color": "#E5ECF6",
              "width": 0.5
             },
             "pattern": {
              "fillmode": "overlay",
              "size": 10,
              "solidity": 0.2
             }
            },
            "type": "barpolar"
           }
          ],
          "carpet": [
           {
            "aaxis": {
             "endlinecolor": "#2a3f5f",
             "gridcolor": "white",
             "linecolor": "white",
             "minorgridcolor": "white",
             "startlinecolor": "#2a3f5f"
            },
            "baxis": {
             "endlinecolor": "#2a3f5f",
             "gridcolor": "white",
             "linecolor": "white",
             "minorgridcolor": "white",
             "startlinecolor": "#2a3f5f"
            },
            "type": "carpet"
           }
          ],
          "choropleth": [
           {
            "colorbar": {
             "outlinewidth": 0,
             "ticks": ""
            },
            "type": "choropleth"
           }
          ],
          "contour": [
           {
            "colorbar": {
             "outlinewidth": 0,
             "ticks": ""
            },
            "colorscale": [
             [
              0,
              "#0d0887"
             ],
             [
              0.1111111111111111,
              "#46039f"
             ],
             [
              0.2222222222222222,
              "#7201a8"
             ],
             [
              0.3333333333333333,
              "#9c179e"
             ],
             [
              0.4444444444444444,
              "#bd3786"
             ],
             [
              0.5555555555555556,
              "#d8576b"
             ],
             [
              0.6666666666666666,
              "#ed7953"
             ],
             [
              0.7777777777777778,
              "#fb9f3a"
             ],
             [
              0.8888888888888888,
              "#fdca26"
             ],
             [
              1,
              "#f0f921"
             ]
            ],
            "type": "contour"
           }
          ],
          "contourcarpet": [
           {
            "colorbar": {
             "outlinewidth": 0,
             "ticks": ""
            },
            "type": "contourcarpet"
           }
          ],
          "heatmap": [
           {
            "colorbar": {
             "outlinewidth": 0,
             "ticks": ""
            },
            "colorscale": [
             [
              0,
              "#0d0887"
             ],
             [
              0.1111111111111111,
              "#46039f"
             ],
             [
              0.2222222222222222,
              "#7201a8"
             ],
             [
              0.3333333333333333,
              "#9c179e"
             ],
             [
              0.4444444444444444,
              "#bd3786"
             ],
             [
              0.5555555555555556,
              "#d8576b"
             ],
             [
              0.6666666666666666,
              "#ed7953"
             ],
             [
              0.7777777777777778,
              "#fb9f3a"
             ],
             [
              0.8888888888888888,
              "#fdca26"
             ],
             [
              1,
              "#f0f921"
             ]
            ],
            "type": "heatmap"
           }
          ],
          "heatmapgl": [
           {
            "colorbar": {
             "outlinewidth": 0,
             "ticks": ""
            },
            "colorscale": [
             [
              0,
              "#0d0887"
             ],
             [
              0.1111111111111111,
              "#46039f"
             ],
             [
              0.2222222222222222,
              "#7201a8"
             ],
             [
              0.3333333333333333,
              "#9c179e"
             ],
             [
              0.4444444444444444,
              "#bd3786"
             ],
             [
              0.5555555555555556,
              "#d8576b"
             ],
             [
              0.6666666666666666,
              "#ed7953"
             ],
             [
              0.7777777777777778,
              "#fb9f3a"
             ],
             [
              0.8888888888888888,
              "#fdca26"
             ],
             [
              1,
              "#f0f921"
             ]
            ],
            "type": "heatmapgl"
           }
          ],
          "histogram": [
           {
            "marker": {
             "pattern": {
              "fillmode": "overlay",
              "size": 10,
              "solidity": 0.2
             }
            },
            "type": "histogram"
           }
          ],
          "histogram2d": [
           {
            "colorbar": {
             "outlinewidth": 0,
             "ticks": ""
            },
            "colorscale": [
             [
              0,
              "#0d0887"
             ],
             [
              0.1111111111111111,
              "#46039f"
             ],
             [
              0.2222222222222222,
              "#7201a8"
             ],
             [
              0.3333333333333333,
              "#9c179e"
             ],
             [
              0.4444444444444444,
              "#bd3786"
             ],
             [
              0.5555555555555556,
              "#d8576b"
             ],
             [
              0.6666666666666666,
              "#ed7953"
             ],
             [
              0.7777777777777778,
              "#fb9f3a"
             ],
             [
              0.8888888888888888,
              "#fdca26"
             ],
             [
              1,
              "#f0f921"
             ]
            ],
            "type": "histogram2d"
           }
          ],
          "histogram2dcontour": [
           {
            "colorbar": {
             "outlinewidth": 0,
             "ticks": ""
            },
            "colorscale": [
             [
              0,
              "#0d0887"
             ],
             [
              0.1111111111111111,
              "#46039f"
             ],
             [
              0.2222222222222222,
              "#7201a8"
             ],
             [
              0.3333333333333333,
              "#9c179e"
             ],
             [
              0.4444444444444444,
              "#bd3786"
             ],
             [
              0.5555555555555556,
              "#d8576b"
             ],
             [
              0.6666666666666666,
              "#ed7953"
             ],
             [
              0.7777777777777778,
              "#fb9f3a"
             ],
             [
              0.8888888888888888,
              "#fdca26"
             ],
             [
              1,
              "#f0f921"
             ]
            ],
            "type": "histogram2dcontour"
           }
          ],
          "mesh3d": [
           {
            "colorbar": {
             "outlinewidth": 0,
             "ticks": ""
            },
            "type": "mesh3d"
           }
          ],
          "parcoords": [
           {
            "line": {
             "colorbar": {
              "outlinewidth": 0,
              "ticks": ""
             }
            },
            "type": "parcoords"
           }
          ],
          "pie": [
           {
            "automargin": true,
            "type": "pie"
           }
          ],
          "scatter": [
           {
            "fillpattern": {
             "fillmode": "overlay",
             "size": 10,
             "solidity": 0.2
            },
            "type": "scatter"
           }
          ],
          "scatter3d": [
           {
            "line": {
             "colorbar": {
              "outlinewidth": 0,
              "ticks": ""
             }
            },
            "marker": {
             "colorbar": {
              "outlinewidth": 0,
              "ticks": ""
             }
            },
            "type": "scatter3d"
           }
          ],
          "scattercarpet": [
           {
            "marker": {
             "colorbar": {
              "outlinewidth": 0,
              "ticks": ""
             }
            },
            "type": "scattercarpet"
           }
          ],
          "scattergeo": [
           {
            "marker": {
             "colorbar": {
              "outlinewidth": 0,
              "ticks": ""
             }
            },
            "type": "scattergeo"
           }
          ],
          "scattergl": [
           {
            "marker": {
             "colorbar": {
              "outlinewidth": 0,
              "ticks": ""
             }
            },
            "type": "scattergl"
           }
          ],
          "scattermapbox": [
           {
            "marker": {
             "colorbar": {
              "outlinewidth": 0,
              "ticks": ""
             }
            },
            "type": "scattermapbox"
           }
          ],
          "scatterpolar": [
           {
            "marker": {
             "colorbar": {
              "outlinewidth": 0,
              "ticks": ""
             }
            },
            "type": "scatterpolar"
           }
          ],
          "scatterpolargl": [
           {
            "marker": {
             "colorbar": {
              "outlinewidth": 0,
              "ticks": ""
             }
            },
            "type": "scatterpolargl"
           }
          ],
          "scatterternary": [
           {
            "marker": {
             "colorbar": {
              "outlinewidth": 0,
              "ticks": ""
             }
            },
            "type": "scatterternary"
           }
          ],
          "surface": [
           {
            "colorbar": {
             "outlinewidth": 0,
             "ticks": ""
            },
            "colorscale": [
             [
              0,
              "#0d0887"
             ],
             [
              0.1111111111111111,
              "#46039f"
             ],
             [
              0.2222222222222222,
              "#7201a8"
             ],
             [
              0.3333333333333333,
              "#9c179e"
             ],
             [
              0.4444444444444444,
              "#bd3786"
             ],
             [
              0.5555555555555556,
              "#d8576b"
             ],
             [
              0.6666666666666666,
              "#ed7953"
             ],
             [
              0.7777777777777778,
              "#fb9f3a"
             ],
             [
              0.8888888888888888,
              "#fdca26"
             ],
             [
              1,
              "#f0f921"
             ]
            ],
            "type": "surface"
           }
          ],
          "table": [
           {
            "cells": {
             "fill": {
              "color": "#EBF0F8"
             },
             "line": {
              "color": "white"
             }
            },
            "header": {
             "fill": {
              "color": "#C8D4E3"
             },
             "line": {
              "color": "white"
             }
            },
            "type": "table"
           }
          ]
         },
         "layout": {
          "annotationdefaults": {
           "arrowcolor": "#2a3f5f",
           "arrowhead": 0,
           "arrowwidth": 1
          },
          "autotypenumbers": "strict",
          "coloraxis": {
           "colorbar": {
            "outlinewidth": 0,
            "ticks": ""
           }
          },
          "colorscale": {
           "diverging": [
            [
             0,
             "#8e0152"
            ],
            [
             0.1,
             "#c51b7d"
            ],
            [
             0.2,
             "#de77ae"
            ],
            [
             0.3,
             "#f1b6da"
            ],
            [
             0.4,
             "#fde0ef"
            ],
            [
             0.5,
             "#f7f7f7"
            ],
            [
             0.6,
             "#e6f5d0"
            ],
            [
             0.7,
             "#b8e186"
            ],
            [
             0.8,
             "#7fbc41"
            ],
            [
             0.9,
             "#4d9221"
            ],
            [
             1,
             "#276419"
            ]
           ],
           "sequential": [
            [
             0,
             "#0d0887"
            ],
            [
             0.1111111111111111,
             "#46039f"
            ],
            [
             0.2222222222222222,
             "#7201a8"
            ],
            [
             0.3333333333333333,
             "#9c179e"
            ],
            [
             0.4444444444444444,
             "#bd3786"
            ],
            [
             0.5555555555555556,
             "#d8576b"
            ],
            [
             0.6666666666666666,
             "#ed7953"
            ],
            [
             0.7777777777777778,
             "#fb9f3a"
            ],
            [
             0.8888888888888888,
             "#fdca26"
            ],
            [
             1,
             "#f0f921"
            ]
           ],
           "sequentialminus": [
            [
             0,
             "#0d0887"
            ],
            [
             0.1111111111111111,
             "#46039f"
            ],
            [
             0.2222222222222222,
             "#7201a8"
            ],
            [
             0.3333333333333333,
             "#9c179e"
            ],
            [
             0.4444444444444444,
             "#bd3786"
            ],
            [
             0.5555555555555556,
             "#d8576b"
            ],
            [
             0.6666666666666666,
             "#ed7953"
            ],
            [
             0.7777777777777778,
             "#fb9f3a"
            ],
            [
             0.8888888888888888,
             "#fdca26"
            ],
            [
             1,
             "#f0f921"
            ]
           ]
          },
          "colorway": [
           "#636efa",
           "#EF553B",
           "#00cc96",
           "#ab63fa",
           "#FFA15A",
           "#19d3f3",
           "#FF6692",
           "#B6E880",
           "#FF97FF",
           "#FECB52"
          ],
          "font": {
           "color": "#2a3f5f"
          },
          "geo": {
           "bgcolor": "white",
           "lakecolor": "white",
           "landcolor": "#E5ECF6",
           "showlakes": true,
           "showland": true,
           "subunitcolor": "white"
          },
          "hoverlabel": {
           "align": "left"
          },
          "hovermode": "closest",
          "mapbox": {
           "style": "light"
          },
          "paper_bgcolor": "white",
          "plot_bgcolor": "#E5ECF6",
          "polar": {
           "angularaxis": {
            "gridcolor": "white",
            "linecolor": "white",
            "ticks": ""
           },
           "bgcolor": "#E5ECF6",
           "radialaxis": {
            "gridcolor": "white",
            "linecolor": "white",
            "ticks": ""
           }
          },
          "scene": {
           "xaxis": {
            "backgroundcolor": "#E5ECF6",
            "gridcolor": "white",
            "gridwidth": 2,
            "linecolor": "white",
            "showbackground": true,
            "ticks": "",
            "zerolinecolor": "white"
           },
           "yaxis": {
            "backgroundcolor": "#E5ECF6",
            "gridcolor": "white",
            "gridwidth": 2,
            "linecolor": "white",
            "showbackground": true,
            "ticks": "",
            "zerolinecolor": "white"
           },
           "zaxis": {
            "backgroundcolor": "#E5ECF6",
            "gridcolor": "white",
            "gridwidth": 2,
            "linecolor": "white",
            "showbackground": true,
            "ticks": "",
            "zerolinecolor": "white"
           }
          },
          "shapedefaults": {
           "line": {
            "color": "#2a3f5f"
           }
          },
          "ternary": {
           "aaxis": {
            "gridcolor": "white",
            "linecolor": "white",
            "ticks": ""
           },
           "baxis": {
            "gridcolor": "white",
            "linecolor": "white",
            "ticks": ""
           },
           "bgcolor": "#E5ECF6",
           "caxis": {
            "gridcolor": "white",
            "linecolor": "white",
            "ticks": ""
           }
          },
          "title": {
           "x": 0.05
          },
          "xaxis": {
           "automargin": true,
           "gridcolor": "white",
           "linecolor": "white",
           "ticks": "",
           "title": {
            "standoff": 15
           },
           "zerolinecolor": "white",
           "zerolinewidth": 2
          },
          "yaxis": {
           "automargin": true,
           "gridcolor": "white",
           "linecolor": "white",
           "ticks": "",
           "title": {
            "standoff": 15
           },
           "zerolinecolor": "white",
           "zerolinewidth": 2
          }
         }
        },
        "title": {
         "text": "Mean Fire Size per Year."
        },
        "xaxis": {
         "anchor": "y",
         "domain": [
          0,
          1
         ],
         "title": {
          "text": "Years"
         }
        },
        "yaxis": {
         "anchor": "x",
         "domain": [
          0,
          1
         ],
         "title": {
          "text": "Mean Fire Size(acres)"
         }
        }
       }
      }
     },
     "metadata": {},
     "output_type": "display_data"
    }
   ],
   "source": [
    "import plotly.express as px\n",
    "\n",
    "# Create bar plot\n",
    "fig = px.bar(x=years, y=mean_values, labels={'x': 'Years', 'y': 'Mean Fire Size(acres)'}, title='Mean Fire Size per Year.')\n",
    "fig.show()"
   ]
  }
 ],
 "metadata": {
  "kernelspec": {
   "display_name": "Python 3 (ipykernel)",
   "language": "python",
   "name": "python3"
  },
  "language_info": {
   "codemirror_mode": {
    "name": "ipython",
    "version": 3
   },
   "file_extension": ".py",
   "mimetype": "text/x-python",
   "name": "python",
   "nbconvert_exporter": "python",
   "pygments_lexer": "ipython3",
   "version": "3.10.11"
  }
 },
 "nbformat": 4,
 "nbformat_minor": 5
}
